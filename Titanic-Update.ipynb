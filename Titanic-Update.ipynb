{
 "cells": [
  {
   "cell_type": "code",
   "execution_count": 1214,
   "metadata": {
    "collapsed": true
   },
   "outputs": [],
   "source": [
    "import pandas as pd\n",
    "import numpy as np\n",
    "from sklearn import preprocessing\n",
    "from sklearn.model_selection import KFold\n",
    "from sklearn import linear_model\n",
    "import random\n",
    "import csv\n",
    "from sklearn import svm\n",
    "from scipy.stats import mode\n",
    "import string\n",
    "from sklearn.linear_model import LogisticRegression\n",
    "from sklearn.ensemble import RandomForestClassifier\n",
    "import sklearn.ensemble as ske\n",
    "from patsy import dmatrices\n",
    "from sklearn.metrics import accuracy_score"
   ]
  },
  {
   "cell_type": "code",
   "execution_count": 1215,
   "metadata": {},
   "outputs": [],
   "source": [
    "def substrings_in_string(big_string, substrings):\n",
    "    for substring in substrings:\n",
    "        #if string.find(big_string, substring) != -1:\n",
    "        if big_string.find(substring) != -1:\n",
    "            return substring\n",
    "    print(big_string)\n",
    "    return np.nan"
   ]
  },
  {
   "cell_type": "code",
   "execution_count": 1216,
   "metadata": {
    "collapsed": true
   },
   "outputs": [],
   "source": [
    "def phase1clean(df):\n",
    "    #setting silly values to nan\n",
    "    df.Fare = df.Fare.map(lambda x: np.nan if x==0 else x)\n",
    "    \n",
    "    #Special case for cabins as nan may be signal\n",
    "    df.Cabin = df.Cabin.fillna('Unknown')    \n",
    "\n",
    "    #creating a title column from name\n",
    "    title_list=['Mrs', 'Mr', 'Master', 'Miss', 'Major', 'Rev',\n",
    "                'Dr', 'Ms', 'Mlle','Col', 'Capt', 'Mme', 'Countess',\n",
    "                'Don', 'Jonkheer']\n",
    "\n",
    "    df['Title']=df['Name'].map(lambda x: substrings_in_string(x, title_list))\n",
    "    \n",
    "    #replacing all titles with mr, mrs, miss, master\n",
    "    def replace_titles(x):\n",
    "        title=x['Title']\n",
    "        if title in ['Don', 'Major', 'Capt', 'Jonkheer', 'Rev', 'Col']:\n",
    "            return 'Mr'\n",
    "        elif title in ['Countess', 'Mme']:\n",
    "            return 'Mrs'\n",
    "        elif title in ['Mlle', 'Ms']:\n",
    "            return 'Miss'\n",
    "        elif title =='Dr':\n",
    "            if x['Sex']=='Male':\n",
    "                return 'Mr'\n",
    "            else:\n",
    "                return 'Mrs'\n",
    "        else:\n",
    "            return title\n",
    "    df['Title']=df.apply(replace_titles, axis=1)\n",
    "\n",
    "    #Turning cabin number into Deck\n",
    "    cabin_list = ['A', 'B', 'C', 'D', 'E', 'F', 'T', 'G', 'Unknown']\n",
    "    df['Deck']=df['Cabin'].map(lambda x: substrings_in_string(x, cabin_list))\n",
    "        \n",
    "    #Creating new family_size column\n",
    "    df['Family_Size']=df['SibSp']+df['Parch']\n",
    "    \n",
    "    return df"
   ]
  },
  {
   "cell_type": "code",
   "execution_count": 1217,
   "metadata": {
    "collapsed": true
   },
   "outputs": [],
   "source": [
    "def phase2clean(train, test):\n",
    "    #data type dictionary\n",
    "    data_type_dict={'Pclass':'ordinal', 'Sex':'nominal', \n",
    "                    'Age':'numeric', \n",
    "                    'Fare':'numeric', 'Embarked':'nominal', 'Title':'nominal',\n",
    "                    'Deck':'nominal', 'Family_Size':'ordinal'}      \n",
    "\n",
    "    #imputing nan values\n",
    "    for df in [train, test]:\n",
    "        #classmeans = df.pivot_table('Fare', rows='Pclass', aggfunc='mean')\n",
    "        classmeans = df.pivot_table('Fare', columns='Pclass', aggfunc='mean')\n",
    "        df.Fare = df[['Fare', 'Pclass']].apply(lambda x: classmeans[x['Pclass']] if pd.isnull(x['Fare']) else x['Fare'], axis=1 )\n",
    "        meanAge=np.mean(df.Age)\n",
    "        df.Age=df.Age.fillna(meanAge)\n",
    "#         modeEmbarked = mode(df.Embarked)[0][0]\n",
    "#         df.Embarked = df.Embarked.fillna(modeEmbarked)\n",
    "\n",
    "\n",
    "#    Fare per person\n",
    "    for df in [train, test]:\n",
    "        df['Fare_Per_Person']=df['Fare']/(df['Family_Size']+1)\n",
    "    \n",
    "    #Age times class\n",
    "    for df in [train, test]:\n",
    "        df['Age*Class']=df['Age']*df['Pclass']\n",
    "    \n",
    "    data_type_dict['Fare_Per_Person']='numeric'\n",
    "    data_type_dict['Age*Class']='numeric'\n",
    "    \n",
    "    return [train,test, data_type_dict]"
   ]
  },
  {
   "cell_type": "code",
   "execution_count": 1218,
   "metadata": {
    "collapsed": true
   },
   "outputs": [],
   "source": [
    "trainpath = 'train.csv'\n",
    "testpath = 'test.csv'\n",
    "traindf = pd.read_csv(trainpath)\n",
    "testdf = pd.read_csv(testpath)"
   ]
  },
  {
   "cell_type": "code",
   "execution_count": 1219,
   "metadata": {},
   "outputs": [],
   "source": [
    "traindf=phase1clean(traindf)\n",
    "testdf=phase1clean(testdf)"
   ]
  },
  {
   "cell_type": "code",
   "execution_count": 1220,
   "metadata": {},
   "outputs": [
    {
     "data": {
      "text/html": [
       "<div>\n",
       "<style>\n",
       "    .dataframe thead tr:only-child th {\n",
       "        text-align: right;\n",
       "    }\n",
       "\n",
       "    .dataframe thead th {\n",
       "        text-align: left;\n",
       "    }\n",
       "\n",
       "    .dataframe tbody tr th {\n",
       "        vertical-align: top;\n",
       "    }\n",
       "</style>\n",
       "<table border=\"1\" class=\"dataframe\">\n",
       "  <thead>\n",
       "    <tr style=\"text-align: right;\">\n",
       "      <th></th>\n",
       "      <th>PassengerId</th>\n",
       "      <th>Survived</th>\n",
       "      <th>Pclass</th>\n",
       "      <th>Name</th>\n",
       "      <th>Sex</th>\n",
       "      <th>Age</th>\n",
       "      <th>SibSp</th>\n",
       "      <th>Parch</th>\n",
       "      <th>Ticket</th>\n",
       "      <th>Fare</th>\n",
       "      <th>Cabin</th>\n",
       "      <th>Embarked</th>\n",
       "      <th>Title</th>\n",
       "      <th>Deck</th>\n",
       "      <th>Family_Size</th>\n",
       "    </tr>\n",
       "  </thead>\n",
       "  <tbody>\n",
       "    <tr>\n",
       "      <th>0</th>\n",
       "      <td>1</td>\n",
       "      <td>0</td>\n",
       "      <td>3</td>\n",
       "      <td>Braund, Mr. Owen Harris</td>\n",
       "      <td>male</td>\n",
       "      <td>22.0</td>\n",
       "      <td>1</td>\n",
       "      <td>0</td>\n",
       "      <td>A/5 21171</td>\n",
       "      <td>7.2500</td>\n",
       "      <td>Unknown</td>\n",
       "      <td>S</td>\n",
       "      <td>Mr</td>\n",
       "      <td>Unknown</td>\n",
       "      <td>1</td>\n",
       "    </tr>\n",
       "    <tr>\n",
       "      <th>1</th>\n",
       "      <td>2</td>\n",
       "      <td>1</td>\n",
       "      <td>1</td>\n",
       "      <td>Cumings, Mrs. John Bradley (Florence Briggs Th...</td>\n",
       "      <td>female</td>\n",
       "      <td>38.0</td>\n",
       "      <td>1</td>\n",
       "      <td>0</td>\n",
       "      <td>PC 17599</td>\n",
       "      <td>71.2833</td>\n",
       "      <td>C85</td>\n",
       "      <td>C</td>\n",
       "      <td>Mrs</td>\n",
       "      <td>C</td>\n",
       "      <td>1</td>\n",
       "    </tr>\n",
       "  </tbody>\n",
       "</table>\n",
       "</div>"
      ],
      "text/plain": [
       "   PassengerId  Survived  Pclass  \\\n",
       "0            1         0       3   \n",
       "1            2         1       1   \n",
       "\n",
       "                                                Name     Sex   Age  SibSp  \\\n",
       "0                            Braund, Mr. Owen Harris    male  22.0      1   \n",
       "1  Cumings, Mrs. John Bradley (Florence Briggs Th...  female  38.0      1   \n",
       "\n",
       "   Parch     Ticket     Fare    Cabin Embarked Title     Deck  Family_Size  \n",
       "0      0  A/5 21171   7.2500  Unknown        S    Mr  Unknown            1  \n",
       "1      0   PC 17599  71.2833      C85        C   Mrs        C            1  "
      ]
     },
     "execution_count": 1220,
     "metadata": {},
     "output_type": "execute_result"
    }
   ],
   "source": [
    "traindf.head(2)"
   ]
  },
  {
   "cell_type": "code",
   "execution_count": 1221,
   "metadata": {},
   "outputs": [],
   "source": [
    "traindf, testdf, data_type_dict=phase2clean(traindf, testdf)"
   ]
  },
  {
   "cell_type": "code",
   "execution_count": 1222,
   "metadata": {},
   "outputs": [
    {
     "data": {
      "text/html": [
       "<div>\n",
       "<style>\n",
       "    .dataframe thead tr:only-child th {\n",
       "        text-align: right;\n",
       "    }\n",
       "\n",
       "    .dataframe thead th {\n",
       "        text-align: left;\n",
       "    }\n",
       "\n",
       "    .dataframe tbody tr th {\n",
       "        vertical-align: top;\n",
       "    }\n",
       "</style>\n",
       "<table border=\"1\" class=\"dataframe\">\n",
       "  <thead>\n",
       "    <tr style=\"text-align: right;\">\n",
       "      <th></th>\n",
       "      <th>PassengerId</th>\n",
       "      <th>Survived</th>\n",
       "      <th>Pclass</th>\n",
       "      <th>Name</th>\n",
       "      <th>Sex</th>\n",
       "      <th>Age</th>\n",
       "      <th>SibSp</th>\n",
       "      <th>Parch</th>\n",
       "      <th>Ticket</th>\n",
       "      <th>Fare</th>\n",
       "      <th>Cabin</th>\n",
       "      <th>Embarked</th>\n",
       "      <th>Title</th>\n",
       "      <th>Deck</th>\n",
       "      <th>Family_Size</th>\n",
       "      <th>Fare_Per_Person</th>\n",
       "      <th>Age*Class</th>\n",
       "    </tr>\n",
       "  </thead>\n",
       "  <tbody>\n",
       "    <tr>\n",
       "      <th>0</th>\n",
       "      <td>1</td>\n",
       "      <td>0</td>\n",
       "      <td>3</td>\n",
       "      <td>Braund, Mr. Owen Harris</td>\n",
       "      <td>male</td>\n",
       "      <td>22.0</td>\n",
       "      <td>1</td>\n",
       "      <td>0</td>\n",
       "      <td>A/5 21171</td>\n",
       "      <td>7.25</td>\n",
       "      <td>Unknown</td>\n",
       "      <td>S</td>\n",
       "      <td>Mr</td>\n",
       "      <td>Unknown</td>\n",
       "      <td>1</td>\n",
       "      <td>3.625</td>\n",
       "      <td>66.0</td>\n",
       "    </tr>\n",
       "    <tr>\n",
       "      <th>1</th>\n",
       "      <td>2</td>\n",
       "      <td>1</td>\n",
       "      <td>1</td>\n",
       "      <td>Cumings, Mrs. John Bradley (Florence Briggs Th...</td>\n",
       "      <td>female</td>\n",
       "      <td>38.0</td>\n",
       "      <td>1</td>\n",
       "      <td>0</td>\n",
       "      <td>PC 17599</td>\n",
       "      <td>71.2833</td>\n",
       "      <td>C85</td>\n",
       "      <td>C</td>\n",
       "      <td>Mrs</td>\n",
       "      <td>C</td>\n",
       "      <td>1</td>\n",
       "      <td>35.6416</td>\n",
       "      <td>38.0</td>\n",
       "    </tr>\n",
       "  </tbody>\n",
       "</table>\n",
       "</div>"
      ],
      "text/plain": [
       "   PassengerId  Survived  Pclass  \\\n",
       "0            1         0       3   \n",
       "1            2         1       1   \n",
       "\n",
       "                                                Name     Sex   Age  SibSp  \\\n",
       "0                            Braund, Mr. Owen Harris    male  22.0      1   \n",
       "1  Cumings, Mrs. John Bradley (Florence Briggs Th...  female  38.0      1   \n",
       "\n",
       "   Parch     Ticket     Fare    Cabin Embarked Title     Deck  Family_Size  \\\n",
       "0      0  A/5 21171     7.25  Unknown        S    Mr  Unknown            1   \n",
       "1      0   PC 17599  71.2833      C85        C   Mrs        C            1   \n",
       "\n",
       "  Fare_Per_Person  Age*Class  \n",
       "0           3.625       66.0  \n",
       "1         35.6416       38.0  "
      ]
     },
     "execution_count": 1222,
     "metadata": {},
     "output_type": "execute_result"
    }
   ],
   "source": [
    "traindf.head(2)"
   ]
  },
  {
   "cell_type": "code",
   "execution_count": 1223,
   "metadata": {},
   "outputs": [
    {
     "name": "stdout",
     "output_type": "stream",
     "text": [
      "Survived\n",
      "0    549\n",
      "1    342\n",
      "Name: PassengerId, dtype: int64\n"
     ]
    }
   ],
   "source": [
    "surv = traindf.groupby('Survived')['PassengerId'].count()\n",
    "print(surv)"
   ]
  },
  {
   "cell_type": "code",
   "execution_count": 1224,
   "metadata": {},
   "outputs": [
    {
     "data": {
      "text/plain": [
       "Survived  Pclass\n",
       "0         1          80\n",
       "          2          97\n",
       "          3         372\n",
       "1         1         136\n",
       "          2          87\n",
       "          3         119\n",
       "Name: PassengerId, dtype: int64"
      ]
     },
     "execution_count": 1224,
     "metadata": {},
     "output_type": "execute_result"
    }
   ],
   "source": [
    "traindf.groupby(['Survived','Pclass'])['PassengerId'].count()"
   ]
  },
  {
   "cell_type": "code",
   "execution_count": 1225,
   "metadata": {},
   "outputs": [
    {
     "data": {
      "text/plain": [
       "Survived  Pclass  Sex   \n",
       "0         1       female      3\n",
       "                  male       77\n",
       "          2       female      6\n",
       "                  male       91\n",
       "          3       female     72\n",
       "                  male      300\n",
       "1         1       female     91\n",
       "                  male       45\n",
       "          2       female     70\n",
       "                  male       17\n",
       "          3       female     72\n",
       "                  male       47\n",
       "Name: PassengerId, dtype: int64"
      ]
     },
     "execution_count": 1225,
     "metadata": {},
     "output_type": "execute_result"
    }
   ],
   "source": [
    "traindf.groupby(['Survived','Pclass','Sex'])['PassengerId'].count()"
   ]
  },
  {
   "cell_type": "code",
   "execution_count": 1226,
   "metadata": {},
   "outputs": [
    {
     "data": {
      "text/plain": [
       "Survived  Title \n",
       "0         Master     17\n",
       "          Miss       54\n",
       "          Mr        447\n",
       "          Mrs        31\n",
       "1         Master     23\n",
       "          Miss      128\n",
       "          Mr         84\n",
       "          Mrs       107\n",
       "Name: PassengerId, dtype: int64"
      ]
     },
     "execution_count": 1226,
     "metadata": {},
     "output_type": "execute_result"
    }
   ],
   "source": [
    "traindf.groupby(['Survived','Title'])['PassengerId'].count()"
   ]
  },
  {
   "cell_type": "code",
   "execution_count": 1229,
   "metadata": {},
   "outputs": [
    {
     "name": "stdout",
     "output_type": "stream",
     "text": [
      "1.60526315789\n"
     ]
    }
   ],
   "source": [
    "weight = surv[0]/surv[1]\n",
    "print(weight)"
   ]
  },
  {
   "cell_type": "code",
   "execution_count": 1230,
   "metadata": {},
   "outputs": [
    {
     "data": {
      "text/html": [
       "<div>\n",
       "<style>\n",
       "    .dataframe thead tr:only-child th {\n",
       "        text-align: right;\n",
       "    }\n",
       "\n",
       "    .dataframe thead th {\n",
       "        text-align: left;\n",
       "    }\n",
       "\n",
       "    .dataframe tbody tr th {\n",
       "        vertical-align: top;\n",
       "    }\n",
       "</style>\n",
       "<table border=\"1\" class=\"dataframe\">\n",
       "  <thead>\n",
       "    <tr style=\"text-align: right;\">\n",
       "      <th></th>\n",
       "      <th>PassengerId</th>\n",
       "      <th>Pclass</th>\n",
       "      <th>Name</th>\n",
       "      <th>Sex</th>\n",
       "      <th>Age</th>\n",
       "      <th>SibSp</th>\n",
       "      <th>Parch</th>\n",
       "      <th>Ticket</th>\n",
       "      <th>Fare</th>\n",
       "      <th>Cabin</th>\n",
       "      <th>Embarked</th>\n",
       "      <th>Title</th>\n",
       "      <th>Deck</th>\n",
       "      <th>Family_Size</th>\n",
       "      <th>Fare_Per_Person</th>\n",
       "      <th>Age*Class</th>\n",
       "    </tr>\n",
       "  </thead>\n",
       "  <tbody>\n",
       "    <tr>\n",
       "      <th>0</th>\n",
       "      <td>892</td>\n",
       "      <td>3</td>\n",
       "      <td>Kelly, Mr. James</td>\n",
       "      <td>male</td>\n",
       "      <td>34.5</td>\n",
       "      <td>0</td>\n",
       "      <td>0</td>\n",
       "      <td>330911</td>\n",
       "      <td>7.8292</td>\n",
       "      <td>Unknown</td>\n",
       "      <td>Q</td>\n",
       "      <td>Mr</td>\n",
       "      <td>Unknown</td>\n",
       "      <td>0</td>\n",
       "      <td>7.8292</td>\n",
       "      <td>103.5</td>\n",
       "    </tr>\n",
       "    <tr>\n",
       "      <th>1</th>\n",
       "      <td>893</td>\n",
       "      <td>3</td>\n",
       "      <td>Wilkes, Mrs. James (Ellen Needs)</td>\n",
       "      <td>female</td>\n",
       "      <td>47.0</td>\n",
       "      <td>1</td>\n",
       "      <td>0</td>\n",
       "      <td>363272</td>\n",
       "      <td>7</td>\n",
       "      <td>Unknown</td>\n",
       "      <td>S</td>\n",
       "      <td>Mrs</td>\n",
       "      <td>Unknown</td>\n",
       "      <td>1</td>\n",
       "      <td>3.5</td>\n",
       "      <td>141.0</td>\n",
       "    </tr>\n",
       "  </tbody>\n",
       "</table>\n",
       "</div>"
      ],
      "text/plain": [
       "   PassengerId  Pclass                              Name     Sex   Age  SibSp  \\\n",
       "0          892       3                  Kelly, Mr. James    male  34.5      0   \n",
       "1          893       3  Wilkes, Mrs. James (Ellen Needs)  female  47.0      1   \n",
       "\n",
       "   Parch  Ticket    Fare    Cabin Embarked Title     Deck  Family_Size  \\\n",
       "0      0  330911  7.8292  Unknown        Q    Mr  Unknown            0   \n",
       "1      0  363272       7  Unknown        S   Mrs  Unknown            1   \n",
       "\n",
       "  Fare_Per_Person  Age*Class  \n",
       "0          7.8292      103.5  \n",
       "1             3.5      141.0  "
      ]
     },
     "execution_count": 1230,
     "metadata": {},
     "output_type": "execute_result"
    }
   ],
   "source": [
    "testdf.head(2)"
   ]
  },
  {
   "cell_type": "code",
   "execution_count": 1231,
   "metadata": {},
   "outputs": [
    {
     "name": "stdout",
     "output_type": "stream",
     "text": [
      "{'Age*Class': 'numeric', 'Pclass': 'ordinal', 'Age': 'numeric', 'Title': 'nominal', 'Embarked': 'nominal', 'Fare': 'numeric', 'Sex': 'nominal', 'Deck': 'nominal', 'Family_Size': 'ordinal', 'Fare_Per_Person': 'numeric'}\n"
     ]
    }
   ],
   "source": [
    "print(data_type_dict)"
   ]
  },
  {
   "cell_type": "code",
   "execution_count": 1232,
   "metadata": {},
   "outputs": [
    {
     "data": {
      "text/plain": [
       "Title\n",
       "Master     40\n",
       "Miss      182\n",
       "Mr        531\n",
       "Mrs       138\n",
       "Name: PassengerId, dtype: int64"
      ]
     },
     "execution_count": 1232,
     "metadata": {},
     "output_type": "execute_result"
    }
   ],
   "source": [
    "traindf.groupby('Title')['PassengerId'].count()"
   ]
  },
  {
   "cell_type": "code",
   "execution_count": 1233,
   "metadata": {
    "collapsed": true
   },
   "outputs": [],
   "source": [
    "def genderclass(df):\n",
    "    sexCate = []\n",
    "    for item in list(df['Sex']):\n",
    "        if item == 'female':\n",
    "            sexCate.append(1)\n",
    "        elif item == 'male':\n",
    "            sexCate.append(2)\n",
    "        else:\n",
    "            sexCate.append(0)\n",
    "    gencla = []        \n",
    "    for i in range(len(sexCate)):\n",
    "        temp = int(sexCate[i])*int(df['Pclass'][i])\n",
    "        gencla.append(temp)\n",
    "    return gencla"
   ]
  },
  {
   "cell_type": "code",
   "execution_count": 1234,
   "metadata": {},
   "outputs": [],
   "source": [
    "traindf['genderclass'] = genderclass(traindf)"
   ]
  },
  {
   "cell_type": "code",
   "execution_count": 1236,
   "metadata": {
    "collapsed": true
   },
   "outputs": [],
   "source": [
    "testdf['genderclass'] = genderclass(testdf)"
   ]
  },
  {
   "cell_type": "code",
   "execution_count": 1237,
   "metadata": {
    "collapsed": true
   },
   "outputs": [],
   "source": [
    "def genderclassage(df):\n",
    "    genclage = []        \n",
    "    for i in range(df.shape[0]):\n",
    "        temp = float(df['Age'][i])*float(df['genderclass'][i])\n",
    "        genclage.append(temp)\n",
    "    return genclage"
   ]
  },
  {
   "cell_type": "code",
   "execution_count": 1238,
   "metadata": {
    "collapsed": true
   },
   "outputs": [],
   "source": [
    "traindf['genderclassage'] = genderclassage(traindf)\n",
    "testdf['genderclassage'] = genderclassage(testdf)"
   ]
  },
  {
   "cell_type": "code",
   "execution_count": 1239,
   "metadata": {},
   "outputs": [
    {
     "data": {
      "text/html": [
       "<div>\n",
       "<style>\n",
       "    .dataframe thead tr:only-child th {\n",
       "        text-align: right;\n",
       "    }\n",
       "\n",
       "    .dataframe thead th {\n",
       "        text-align: left;\n",
       "    }\n",
       "\n",
       "    .dataframe tbody tr th {\n",
       "        vertical-align: top;\n",
       "    }\n",
       "</style>\n",
       "<table border=\"1\" class=\"dataframe\">\n",
       "  <thead>\n",
       "    <tr style=\"text-align: right;\">\n",
       "      <th></th>\n",
       "      <th>PassengerId</th>\n",
       "      <th>Survived</th>\n",
       "      <th>Pclass</th>\n",
       "      <th>Name</th>\n",
       "      <th>Sex</th>\n",
       "      <th>Age</th>\n",
       "      <th>SibSp</th>\n",
       "      <th>Parch</th>\n",
       "      <th>Ticket</th>\n",
       "      <th>Fare</th>\n",
       "      <th>Cabin</th>\n",
       "      <th>Embarked</th>\n",
       "      <th>Title</th>\n",
       "      <th>Deck</th>\n",
       "      <th>Family_Size</th>\n",
       "      <th>Fare_Per_Person</th>\n",
       "      <th>Age*Class</th>\n",
       "      <th>genderclass</th>\n",
       "      <th>genderclassage</th>\n",
       "    </tr>\n",
       "  </thead>\n",
       "  <tbody>\n",
       "    <tr>\n",
       "      <th>0</th>\n",
       "      <td>1</td>\n",
       "      <td>0</td>\n",
       "      <td>3</td>\n",
       "      <td>Braund, Mr. Owen Harris</td>\n",
       "      <td>male</td>\n",
       "      <td>22.0</td>\n",
       "      <td>1</td>\n",
       "      <td>0</td>\n",
       "      <td>A/5 21171</td>\n",
       "      <td>7.25</td>\n",
       "      <td>Unknown</td>\n",
       "      <td>S</td>\n",
       "      <td>Mr</td>\n",
       "      <td>Unknown</td>\n",
       "      <td>1</td>\n",
       "      <td>3.625</td>\n",
       "      <td>66.0</td>\n",
       "      <td>6</td>\n",
       "      <td>132.0</td>\n",
       "    </tr>\n",
       "    <tr>\n",
       "      <th>1</th>\n",
       "      <td>2</td>\n",
       "      <td>1</td>\n",
       "      <td>1</td>\n",
       "      <td>Cumings, Mrs. John Bradley (Florence Briggs Th...</td>\n",
       "      <td>female</td>\n",
       "      <td>38.0</td>\n",
       "      <td>1</td>\n",
       "      <td>0</td>\n",
       "      <td>PC 17599</td>\n",
       "      <td>71.2833</td>\n",
       "      <td>C85</td>\n",
       "      <td>C</td>\n",
       "      <td>Mrs</td>\n",
       "      <td>C</td>\n",
       "      <td>1</td>\n",
       "      <td>35.6416</td>\n",
       "      <td>38.0</td>\n",
       "      <td>1</td>\n",
       "      <td>38.0</td>\n",
       "    </tr>\n",
       "  </tbody>\n",
       "</table>\n",
       "</div>"
      ],
      "text/plain": [
       "   PassengerId  Survived  Pclass  \\\n",
       "0            1         0       3   \n",
       "1            2         1       1   \n",
       "\n",
       "                                                Name     Sex   Age  SibSp  \\\n",
       "0                            Braund, Mr. Owen Harris    male  22.0      1   \n",
       "1  Cumings, Mrs. John Bradley (Florence Briggs Th...  female  38.0      1   \n",
       "\n",
       "   Parch     Ticket     Fare    Cabin Embarked Title     Deck  Family_Size  \\\n",
       "0      0  A/5 21171     7.25  Unknown        S    Mr  Unknown            1   \n",
       "1      0   PC 17599  71.2833      C85        C   Mrs        C            1   \n",
       "\n",
       "  Fare_Per_Person  Age*Class  genderclass  genderclassage  \n",
       "0           3.625       66.0            6           132.0  \n",
       "1         35.6416       38.0            1            38.0  "
      ]
     },
     "execution_count": 1239,
     "metadata": {},
     "output_type": "execute_result"
    }
   ],
   "source": [
    "traindf.head(2)"
   ]
  },
  {
   "cell_type": "code",
   "execution_count": 1240,
   "metadata": {},
   "outputs": [
    {
     "data": {
      "text/plain": [
       "0.25     57.0\n",
       "0.50     96.0\n",
       "0.75    168.0\n",
       "Name: genderclassage, dtype: float64"
      ]
     },
     "execution_count": 1240,
     "metadata": {},
     "output_type": "execute_result"
    }
   ],
   "source": [
    "traindf['genderclassage'].quantile([0.25,0.5,0.75])"
   ]
  },
  {
   "cell_type": "code",
   "execution_count": 1273,
   "metadata": {
    "collapsed": true
   },
   "outputs": [],
   "source": [
    "def getgenclageCate(df):\n",
    "    genclageCate=[]\n",
    "    quan = list(df['genderclassage'].quantile([0.25,0.5,0.75]))\n",
    "    for item in df['genderclassage']:\n",
    "        if item < quan[0]:\n",
    "            genclageCate.append('A')\n",
    "        elif item < quan[1]:\n",
    "            genclageCate.append('B')\n",
    "        elif item < quan[2]:\n",
    "            genclageCate.append('C')\n",
    "        else:\n",
    "            genclageCate.append('D')\n",
    "    return genclageCate"
   ]
  },
  {
   "cell_type": "code",
   "execution_count": 1275,
   "metadata": {},
   "outputs": [],
   "source": [
    "traindf['genclageCate'] = getgenclageCate(traindf)\n",
    "testdf['genclageCate'] = getgenclageCate(testdf)"
   ]
  },
  {
   "cell_type": "code",
   "execution_count": 1277,
   "metadata": {},
   "outputs": [
    {
     "data": {
      "text/plain": [
       "Survived  genclageCate\n",
       "0         A                50\n",
       "          B               107\n",
       "          C               193\n",
       "          D               199\n",
       "1         A               172\n",
       "          B               103\n",
       "          C                42\n",
       "          D                25\n",
       "Name: PassengerId, dtype: int64"
      ]
     },
     "execution_count": 1277,
     "metadata": {},
     "output_type": "execute_result"
    }
   ],
   "source": [
    "traindf.groupby(['Survived','genclageCate'])['PassengerId'].count()"
   ]
  },
  {
   "cell_type": "code",
   "execution_count": 1278,
   "metadata": {},
   "outputs": [
    {
     "data": {
      "text/plain": [
       "Survived  genderclass\n",
       "0         1                3\n",
       "          2               83\n",
       "          3               72\n",
       "          4               91\n",
       "          6              300\n",
       "1         1               91\n",
       "          2              115\n",
       "          3               72\n",
       "          4               17\n",
       "          6               47\n",
       "Name: PassengerId, dtype: int64"
      ]
     },
     "execution_count": 1278,
     "metadata": {},
     "output_type": "execute_result"
    }
   ],
   "source": [
    "traindf.groupby(['Survived','genderclass'])['PassengerId'].count()"
   ]
  },
  {
   "cell_type": "code",
   "execution_count": 1279,
   "metadata": {
    "collapsed": true
   },
   "outputs": [],
   "source": [
    "def getgenclaCate(df):\n",
    "    genclaCate=[]\n",
    "    for item in df['genderclass']:\n",
    "        if item==1:\n",
    "            genclaCate.append('A')\n",
    "        elif item==2:\n",
    "            genclaCate.append('B')\n",
    "        elif item==3:\n",
    "            genclaCate.append('C')\n",
    "        else:\n",
    "            genclaCate.append('D')\n",
    "    return genclaCate"
   ]
  },
  {
   "cell_type": "code",
   "execution_count": 1280,
   "metadata": {
    "collapsed": true
   },
   "outputs": [],
   "source": [
    "traindf['genclaCate'] = getgenclaCate(traindf)\n",
    "testdf['genclaCate'] = getgenclaCate(testdf)"
   ]
  },
  {
   "cell_type": "code",
   "execution_count": 1281,
   "metadata": {},
   "outputs": [
    {
     "data": {
      "text/plain": [
       "Survived  genclaCate\n",
       "0         A               3\n",
       "          B              83\n",
       "          C              72\n",
       "          D             391\n",
       "1         A              91\n",
       "          B             115\n",
       "          C              72\n",
       "          D              64\n",
       "Name: PassengerId, dtype: int64"
      ]
     },
     "execution_count": 1281,
     "metadata": {},
     "output_type": "execute_result"
    }
   ],
   "source": [
    "traindf.groupby(['Survived','genclaCate'])['PassengerId'].count()"
   ]
  },
  {
   "cell_type": "code",
   "execution_count": 1282,
   "metadata": {},
   "outputs": [
    {
     "data": {
      "text/plain": [
       "Survived  Title \n",
       "0         Master     17\n",
       "          Miss       54\n",
       "          Mr        447\n",
       "          Mrs        31\n",
       "1         Master     23\n",
       "          Miss      128\n",
       "          Mr         84\n",
       "          Mrs       107\n",
       "Name: PassengerId, dtype: int64"
      ]
     },
     "execution_count": 1282,
     "metadata": {},
     "output_type": "execute_result"
    }
   ],
   "source": [
    "traindf.groupby(['Survived','Title'])['PassengerId'].count()"
   ]
  },
  {
   "cell_type": "code",
   "execution_count": 1351,
   "metadata": {
    "collapsed": true
   },
   "outputs": [],
   "source": [
    "df = traindf\n",
    "df_test = testdf"
   ]
  },
  {
   "cell_type": "markdown",
   "metadata": {},
   "source": [
    "#### Force `NaN` to `Unknown`"
   ]
  },
  {
   "cell_type": "code",
   "execution_count": 1284,
   "metadata": {
    "collapsed": true
   },
   "outputs": [],
   "source": [
    "df.Embarked = df.Cabin.fillna('Unknown')  \n",
    "df_test.Embarked = df_test.fillna('Unknown')"
   ]
  },
  {
   "cell_type": "code",
   "execution_count": 1285,
   "metadata": {},
   "outputs": [
    {
     "data": {
      "text/html": [
       "<div>\n",
       "<style>\n",
       "    .dataframe thead tr:only-child th {\n",
       "        text-align: right;\n",
       "    }\n",
       "\n",
       "    .dataframe thead th {\n",
       "        text-align: left;\n",
       "    }\n",
       "\n",
       "    .dataframe tbody tr th {\n",
       "        vertical-align: top;\n",
       "    }\n",
       "</style>\n",
       "<table border=\"1\" class=\"dataframe\">\n",
       "  <thead>\n",
       "    <tr style=\"text-align: right;\">\n",
       "      <th></th>\n",
       "      <th>PassengerId</th>\n",
       "      <th>Survived</th>\n",
       "      <th>Pclass</th>\n",
       "      <th>Name</th>\n",
       "      <th>Sex</th>\n",
       "      <th>Age</th>\n",
       "      <th>SibSp</th>\n",
       "      <th>Parch</th>\n",
       "      <th>Ticket</th>\n",
       "      <th>Fare</th>\n",
       "      <th>...</th>\n",
       "      <th>Deck</th>\n",
       "      <th>Family_Size</th>\n",
       "      <th>Fare_Per_Person</th>\n",
       "      <th>Age*Class</th>\n",
       "      <th>genderclass</th>\n",
       "      <th>genderclassage</th>\n",
       "      <th>genclaCate</th>\n",
       "      <th>AgeCate</th>\n",
       "      <th>FareCate</th>\n",
       "      <th>genclageCate</th>\n",
       "    </tr>\n",
       "  </thead>\n",
       "  <tbody>\n",
       "    <tr>\n",
       "      <th>0</th>\n",
       "      <td>1</td>\n",
       "      <td>0</td>\n",
       "      <td>3</td>\n",
       "      <td>Braund, Mr. Owen Harris</td>\n",
       "      <td>male</td>\n",
       "      <td>22.0</td>\n",
       "      <td>1</td>\n",
       "      <td>0</td>\n",
       "      <td>A/5 21171</td>\n",
       "      <td>7.25</td>\n",
       "      <td>...</td>\n",
       "      <td>Unknown</td>\n",
       "      <td>1</td>\n",
       "      <td>3.625</td>\n",
       "      <td>66.0</td>\n",
       "      <td>6</td>\n",
       "      <td>132.0</td>\n",
       "      <td>D</td>\n",
       "      <td>B</td>\n",
       "      <td>A</td>\n",
       "      <td>C</td>\n",
       "    </tr>\n",
       "    <tr>\n",
       "      <th>1</th>\n",
       "      <td>2</td>\n",
       "      <td>1</td>\n",
       "      <td>1</td>\n",
       "      <td>Cumings, Mrs. John Bradley (Florence Briggs Th...</td>\n",
       "      <td>female</td>\n",
       "      <td>38.0</td>\n",
       "      <td>1</td>\n",
       "      <td>0</td>\n",
       "      <td>PC 17599</td>\n",
       "      <td>71.2833</td>\n",
       "      <td>...</td>\n",
       "      <td>C</td>\n",
       "      <td>1</td>\n",
       "      <td>35.6416</td>\n",
       "      <td>38.0</td>\n",
       "      <td>1</td>\n",
       "      <td>38.0</td>\n",
       "      <td>A</td>\n",
       "      <td>G</td>\n",
       "      <td>H</td>\n",
       "      <td>A</td>\n",
       "    </tr>\n",
       "  </tbody>\n",
       "</table>\n",
       "<p>2 rows × 23 columns</p>\n",
       "</div>"
      ],
      "text/plain": [
       "   PassengerId  Survived  Pclass  \\\n",
       "0            1         0       3   \n",
       "1            2         1       1   \n",
       "\n",
       "                                                Name     Sex   Age  SibSp  \\\n",
       "0                            Braund, Mr. Owen Harris    male  22.0      1   \n",
       "1  Cumings, Mrs. John Bradley (Florence Briggs Th...  female  38.0      1   \n",
       "\n",
       "   Parch     Ticket     Fare     ...          Deck Family_Size  \\\n",
       "0      0  A/5 21171     7.25     ...       Unknown           1   \n",
       "1      0   PC 17599  71.2833     ...             C           1   \n",
       "\n",
       "  Fare_Per_Person Age*Class  genderclass genderclassage  genclaCate  AgeCate  \\\n",
       "0           3.625      66.0            6          132.0           D        B   \n",
       "1         35.6416      38.0            1           38.0           A        G   \n",
       "\n",
       "   FareCate genclageCate  \n",
       "0         A            C  \n",
       "1         H            A  \n",
       "\n",
       "[2 rows x 23 columns]"
      ]
     },
     "execution_count": 1285,
     "metadata": {},
     "output_type": "execute_result"
    }
   ],
   "source": [
    "df.head(2)"
   ]
  },
  {
   "cell_type": "code",
   "execution_count": 1286,
   "metadata": {},
   "outputs": [
    {
     "data": {
      "text/plain": [
       "(418, 22)"
      ]
     },
     "execution_count": 1286,
     "metadata": {},
     "output_type": "execute_result"
    }
   ],
   "source": [
    "df_test.shape"
   ]
  },
  {
   "cell_type": "code",
   "execution_count": 1287,
   "metadata": {},
   "outputs": [
    {
     "data": {
      "text/html": [
       "<div>\n",
       "<style>\n",
       "    .dataframe thead tr:only-child th {\n",
       "        text-align: right;\n",
       "    }\n",
       "\n",
       "    .dataframe thead th {\n",
       "        text-align: left;\n",
       "    }\n",
       "\n",
       "    .dataframe tbody tr th {\n",
       "        vertical-align: top;\n",
       "    }\n",
       "</style>\n",
       "<table border=\"1\" class=\"dataframe\">\n",
       "  <thead>\n",
       "    <tr style=\"text-align: right;\">\n",
       "      <th></th>\n",
       "      <th>PassengerId</th>\n",
       "      <th>Pclass</th>\n",
       "      <th>Name</th>\n",
       "      <th>Sex</th>\n",
       "      <th>Age</th>\n",
       "      <th>SibSp</th>\n",
       "      <th>Parch</th>\n",
       "      <th>Ticket</th>\n",
       "      <th>Fare</th>\n",
       "      <th>Cabin</th>\n",
       "      <th>...</th>\n",
       "      <th>Deck</th>\n",
       "      <th>Family_Size</th>\n",
       "      <th>Fare_Per_Person</th>\n",
       "      <th>Age*Class</th>\n",
       "      <th>genderclass</th>\n",
       "      <th>genderclassage</th>\n",
       "      <th>genclaCate</th>\n",
       "      <th>AgeCate</th>\n",
       "      <th>FareCate</th>\n",
       "      <th>genclageCate</th>\n",
       "    </tr>\n",
       "  </thead>\n",
       "  <tbody>\n",
       "    <tr>\n",
       "      <th>0</th>\n",
       "      <td>892</td>\n",
       "      <td>3</td>\n",
       "      <td>Kelly, Mr. James</td>\n",
       "      <td>male</td>\n",
       "      <td>34.5</td>\n",
       "      <td>0</td>\n",
       "      <td>0</td>\n",
       "      <td>330911</td>\n",
       "      <td>7.8292</td>\n",
       "      <td>Unknown</td>\n",
       "      <td>...</td>\n",
       "      <td>Unknown</td>\n",
       "      <td>0</td>\n",
       "      <td>7.8292</td>\n",
       "      <td>103.5</td>\n",
       "      <td>6</td>\n",
       "      <td>207.0</td>\n",
       "      <td>D</td>\n",
       "      <td>F</td>\n",
       "      <td>B</td>\n",
       "      <td>D</td>\n",
       "    </tr>\n",
       "    <tr>\n",
       "      <th>1</th>\n",
       "      <td>893</td>\n",
       "      <td>3</td>\n",
       "      <td>Wilkes, Mrs. James (Ellen Needs)</td>\n",
       "      <td>female</td>\n",
       "      <td>47.0</td>\n",
       "      <td>1</td>\n",
       "      <td>0</td>\n",
       "      <td>363272</td>\n",
       "      <td>7</td>\n",
       "      <td>Unknown</td>\n",
       "      <td>...</td>\n",
       "      <td>Unknown</td>\n",
       "      <td>1</td>\n",
       "      <td>3.5</td>\n",
       "      <td>141.0</td>\n",
       "      <td>3</td>\n",
       "      <td>141.0</td>\n",
       "      <td>C</td>\n",
       "      <td>H</td>\n",
       "      <td>A</td>\n",
       "      <td>C</td>\n",
       "    </tr>\n",
       "  </tbody>\n",
       "</table>\n",
       "<p>2 rows × 22 columns</p>\n",
       "</div>"
      ],
      "text/plain": [
       "   PassengerId  Pclass                              Name     Sex   Age  SibSp  \\\n",
       "0          892       3                  Kelly, Mr. James    male  34.5      0   \n",
       "1          893       3  Wilkes, Mrs. James (Ellen Needs)  female  47.0      1   \n",
       "\n",
       "   Parch  Ticket    Fare    Cabin     ...          Deck Family_Size  \\\n",
       "0      0  330911  7.8292  Unknown     ...       Unknown           0   \n",
       "1      0  363272       7  Unknown     ...       Unknown           1   \n",
       "\n",
       "  Fare_Per_Person  Age*Class genderclass  genderclassage  genclaCate  AgeCate  \\\n",
       "0          7.8292      103.5           6           207.0           D        F   \n",
       "1             3.5      141.0           3           141.0           C        H   \n",
       "\n",
       "  FareCate genclageCate  \n",
       "0        B            D  \n",
       "1        A            C  \n",
       "\n",
       "[2 rows x 22 columns]"
      ]
     },
     "execution_count": 1287,
     "metadata": {},
     "output_type": "execute_result"
    }
   ],
   "source": [
    "df_test.head(2)"
   ]
  },
  {
   "cell_type": "code",
   "execution_count": 1288,
   "metadata": {},
   "outputs": [
    {
     "data": {
      "text/plain": [
       "Pclass\n",
       "1    216\n",
       "2    184\n",
       "3    491\n",
       "Name: PassengerId, dtype: int64"
      ]
     },
     "execution_count": 1288,
     "metadata": {},
     "output_type": "execute_result"
    }
   ],
   "source": [
    "df.groupby('Pclass')['PassengerId'].count()"
   ]
  },
  {
   "cell_type": "code",
   "execution_count": 1289,
   "metadata": {},
   "outputs": [
    {
     "data": {
      "text/plain": [
       "SibSp\n",
       "0    608\n",
       "1    209\n",
       "2     28\n",
       "3     16\n",
       "4     18\n",
       "5      5\n",
       "8      7\n",
       "Name: PassengerId, dtype: int64"
      ]
     },
     "execution_count": 1289,
     "metadata": {},
     "output_type": "execute_result"
    }
   ],
   "source": [
    "df.groupby('SibSp')['PassengerId'].count()"
   ]
  },
  {
   "cell_type": "code",
   "execution_count": 1290,
   "metadata": {},
   "outputs": [
    {
     "data": {
      "text/plain": [
       "Parch\n",
       "0    678\n",
       "1    118\n",
       "2     80\n",
       "3      5\n",
       "4      4\n",
       "5      5\n",
       "6      1\n",
       "Name: PassengerId, dtype: int64"
      ]
     },
     "execution_count": 1290,
     "metadata": {},
     "output_type": "execute_result"
    }
   ],
   "source": [
    "df.groupby('Parch')['PassengerId'].count()"
   ]
  },
  {
   "cell_type": "code",
   "execution_count": 1291,
   "metadata": {},
   "outputs": [
    {
     "data": {
      "text/plain": [
       "Sex\n",
       "female    314\n",
       "male      577\n",
       "Name: PassengerId, dtype: int64"
      ]
     },
     "execution_count": 1291,
     "metadata": {},
     "output_type": "execute_result"
    }
   ],
   "source": [
    "df.groupby('Sex')['PassengerId'].count()"
   ]
  },
  {
   "cell_type": "code",
   "execution_count": 1292,
   "metadata": {},
   "outputs": [
    {
     "name": "stdout",
     "output_type": "stream",
     "text": [
      "[17.0, 22.0, 27.0, 29.69911764705882, 29.69911764705882, 35.0, 45.0, 80.0]\n"
     ]
    }
   ],
   "source": [
    "AgeQuan = list(df['Age'].quantile([0.125, 0.25, 0.375, 0.5, 0.625, 0.75, 0.875, 1.0]))\n",
    "print(AgeQuan)"
   ]
  },
  {
   "cell_type": "code",
   "execution_count": 1293,
   "metadata": {
    "collapsed": true
   },
   "outputs": [],
   "source": [
    "def getAgeCategory(ageList):\n",
    "    print(len(ageList))\n",
    "    ageCate = []\n",
    "    for age in (ageList):\n",
    "        if age<=AgeQuan[0]:\n",
    "            ageCate.append('A')\n",
    "        elif age<=AgeQuan[1]:\n",
    "            ageCate.append('B')\n",
    "        elif age<=AgeQuan[2]:\n",
    "            ageCate.append('C')\n",
    "        elif age<=AgeQuan[3]:\n",
    "            ageCate.append('D')\n",
    "        elif age<=AgeQuan[4]:\n",
    "            ageCate.append('E')\n",
    "        elif age<=AgeQuan[5]:\n",
    "            ageCate.append('F')\n",
    "        elif age<=AgeQuan[6]:\n",
    "            ageCate.append('G')\n",
    "        elif age<=AgeQuan[7]:\n",
    "            ageCate.append('H')\n",
    "        else:\n",
    "            ageCate.append('I')\n",
    "    return ageCate"
   ]
  },
  {
   "cell_type": "code",
   "execution_count": 1294,
   "metadata": {},
   "outputs": [
    {
     "name": "stdout",
     "output_type": "stream",
     "text": [
      "891\n",
      "418\n"
     ]
    }
   ],
   "source": [
    "df['AgeCate']  = getAgeCategory(df['Age'])\n",
    "df_test['AgeCate']  = getAgeCategory(df_test['Age'])"
   ]
  },
  {
   "cell_type": "code",
   "execution_count": 1295,
   "metadata": {},
   "outputs": [
    {
     "data": {
      "text/plain": [
       "Survived  AgeCate\n",
       "0         A           52\n",
       "          B           81\n",
       "          C           63\n",
       "          D          157\n",
       "          F           62\n",
       "          G           69\n",
       "          H           65\n",
       "1         A           61\n",
       "          B           37\n",
       "          C           43\n",
       "          D           67\n",
       "          F           51\n",
       "          G           45\n",
       "          H           38\n",
       "Name: PassengerId, dtype: int64"
      ]
     },
     "execution_count": 1295,
     "metadata": {},
     "output_type": "execute_result"
    }
   ],
   "source": [
    "df.groupby(['Survived','AgeCate'])['PassengerId'].count()"
   ]
  },
  {
   "cell_type": "code",
   "execution_count": 1296,
   "metadata": {},
   "outputs": [
    {
     "data": {
      "text/plain": [
       "AgeCate\n",
       "A     41\n",
       "B     61\n",
       "C     65\n",
       "D     18\n",
       "F    128\n",
       "G     53\n",
       "H     52\n",
       "Name: PassengerId, dtype: int64"
      ]
     },
     "execution_count": 1296,
     "metadata": {},
     "output_type": "execute_result"
    }
   ],
   "source": [
    "df_test.groupby('AgeCate')['PassengerId'].count()"
   ]
  },
  {
   "cell_type": "code",
   "execution_count": 1297,
   "metadata": {},
   "outputs": [
    {
     "name": "stdout",
     "output_type": "stream",
     "text": [
      "[7.75, 7.9249999999999998, 10.5, 14.5, 25.671874999999996, 31.274999999999999, 69.549999999999997, 512.32920000000001]\n"
     ]
    }
   ],
   "source": [
    "FareCate = list(df['Fare'].quantile([0.125, 0.25, 0.375, 0.5, 0.625, 0.75, 0.875, 1.0]))\n",
    "print(FareCate)"
   ]
  },
  {
   "cell_type": "code",
   "execution_count": 1298,
   "metadata": {},
   "outputs": [
    {
     "data": {
      "text/plain": [
       "8"
      ]
     },
     "execution_count": 1298,
     "metadata": {},
     "output_type": "execute_result"
    }
   ],
   "source": [
    "len(FareCate)"
   ]
  },
  {
   "cell_type": "code",
   "execution_count": 1299,
   "metadata": {
    "collapsed": true
   },
   "outputs": [],
   "source": [
    "def getFareCate(fareList):\n",
    "    fareCate = []\n",
    "    print(len(list(fareList)))\n",
    "    for fare in list(fareList):\n",
    "        if fare<FareCate[0]:\n",
    "            fareCate.append('A')\n",
    "        elif fare<FareCate[1]:\n",
    "            fareCate.append('B')\n",
    "        elif fare<FareCate[2]:\n",
    "            fareCate.append('C')\n",
    "        elif fare<FareCate[3]:\n",
    "            fareCate.append('D')\n",
    "        elif fare<FareCate[4]:\n",
    "            fareCate.append('E')\n",
    "        elif fare<FareCate[5]:\n",
    "            fareCate.append('F')\n",
    "        elif fare<FareCate[6]:\n",
    "            fareCate.append('G')\n",
    "        elif fare<FareCate[7]:\n",
    "            fareCate.append('H')\n",
    "        else:\n",
    "            fareCate.append('I')\n",
    "    return fareCate"
   ]
  },
  {
   "cell_type": "code",
   "execution_count": 1300,
   "metadata": {},
   "outputs": [
    {
     "name": "stdout",
     "output_type": "stream",
     "text": [
      "891\n",
      "418\n"
     ]
    }
   ],
   "source": [
    "df['FareCate']  = getFareCate(df['Fare'])\n",
    "df_test['FareCate']  = getFareCate(df_test['Fare'])"
   ]
  },
  {
   "cell_type": "code",
   "execution_count": 1301,
   "metadata": {},
   "outputs": [
    {
     "data": {
      "text/plain": [
       "Survived  FareCate\n",
       "0         A           75\n",
       "          B           90\n",
       "          C           93\n",
       "          D           69\n",
       "          E           70\n",
       "          F           54\n",
       "          G           57\n",
       "          H           41\n",
       "1         A           16\n",
       "          B           27\n",
       "          C           23\n",
       "          D           46\n",
       "          E           48\n",
       "          F           53\n",
       "          G           53\n",
       "          H           73\n",
       "          I            3\n",
       "Name: PassengerId, dtype: int64"
      ]
     },
     "execution_count": 1301,
     "metadata": {},
     "output_type": "execute_result"
    }
   ],
   "source": [
    "df.groupby(['Survived','FareCate'])['PassengerId'].count()"
   ]
  },
  {
   "cell_type": "code",
   "execution_count": 1302,
   "metadata": {},
   "outputs": [
    {
     "data": {
      "text/plain": [
       "FareCate\n",
       "A    47\n",
       "B    65\n",
       "C    41\n",
       "D    57\n",
       "E    54\n",
       "F    44\n",
       "G    53\n",
       "H    56\n",
       "I     1\n",
       "Name: PassengerId, dtype: int64"
      ]
     },
     "execution_count": 1302,
     "metadata": {},
     "output_type": "execute_result"
    }
   ],
   "source": [
    "df_test.groupby('FareCate')['PassengerId'].count()"
   ]
  },
  {
   "cell_type": "code",
   "execution_count": 1303,
   "metadata": {
    "collapsed": true
   },
   "outputs": [],
   "source": [
    "label = df['Survived']"
   ]
  },
  {
   "cell_type": "code",
   "execution_count": 1304,
   "metadata": {
    "collapsed": true
   },
   "outputs": [],
   "source": [
    "passId = df_test['PassengerId']"
   ]
  },
  {
   "cell_type": "code",
   "execution_count": 1305,
   "metadata": {
    "collapsed": true
   },
   "outputs": [],
   "source": [
    "delList = ['Name', 'Ticket','Cabin', 'Survived', 'Embarked','PassengerId']"
   ]
  },
  {
   "cell_type": "code",
   "execution_count": 1306,
   "metadata": {
    "collapsed": true
   },
   "outputs": [],
   "source": [
    "for col in df:\n",
    "    if col in delList:\n",
    "        del df[col]"
   ]
  },
  {
   "cell_type": "code",
   "execution_count": 1307,
   "metadata": {
    "collapsed": true
   },
   "outputs": [],
   "source": [
    "for col in df_test:\n",
    "    if col in delList:\n",
    "        del df_test[col]"
   ]
  },
  {
   "cell_type": "code",
   "execution_count": 1308,
   "metadata": {},
   "outputs": [
    {
     "data": {
      "text/html": [
       "<div>\n",
       "<style>\n",
       "    .dataframe thead tr:only-child th {\n",
       "        text-align: right;\n",
       "    }\n",
       "\n",
       "    .dataframe thead th {\n",
       "        text-align: left;\n",
       "    }\n",
       "\n",
       "    .dataframe tbody tr th {\n",
       "        vertical-align: top;\n",
       "    }\n",
       "</style>\n",
       "<table border=\"1\" class=\"dataframe\">\n",
       "  <thead>\n",
       "    <tr style=\"text-align: right;\">\n",
       "      <th></th>\n",
       "      <th>Pclass</th>\n",
       "      <th>Sex</th>\n",
       "      <th>Age</th>\n",
       "      <th>SibSp</th>\n",
       "      <th>Parch</th>\n",
       "      <th>Fare</th>\n",
       "      <th>Title</th>\n",
       "      <th>Deck</th>\n",
       "      <th>Family_Size</th>\n",
       "      <th>Fare_Per_Person</th>\n",
       "      <th>Age*Class</th>\n",
       "      <th>genderclass</th>\n",
       "      <th>genderclassage</th>\n",
       "      <th>genclaCate</th>\n",
       "      <th>AgeCate</th>\n",
       "      <th>FareCate</th>\n",
       "      <th>genclageCate</th>\n",
       "    </tr>\n",
       "  </thead>\n",
       "  <tbody>\n",
       "    <tr>\n",
       "      <th>0</th>\n",
       "      <td>3</td>\n",
       "      <td>male</td>\n",
       "      <td>22.0</td>\n",
       "      <td>1</td>\n",
       "      <td>0</td>\n",
       "      <td>7.25</td>\n",
       "      <td>Mr</td>\n",
       "      <td>Unknown</td>\n",
       "      <td>1</td>\n",
       "      <td>3.625</td>\n",
       "      <td>66.0</td>\n",
       "      <td>6</td>\n",
       "      <td>132.0</td>\n",
       "      <td>D</td>\n",
       "      <td>B</td>\n",
       "      <td>A</td>\n",
       "      <td>C</td>\n",
       "    </tr>\n",
       "    <tr>\n",
       "      <th>1</th>\n",
       "      <td>1</td>\n",
       "      <td>female</td>\n",
       "      <td>38.0</td>\n",
       "      <td>1</td>\n",
       "      <td>0</td>\n",
       "      <td>71.2833</td>\n",
       "      <td>Mrs</td>\n",
       "      <td>C</td>\n",
       "      <td>1</td>\n",
       "      <td>35.6416</td>\n",
       "      <td>38.0</td>\n",
       "      <td>1</td>\n",
       "      <td>38.0</td>\n",
       "      <td>A</td>\n",
       "      <td>G</td>\n",
       "      <td>H</td>\n",
       "      <td>A</td>\n",
       "    </tr>\n",
       "    <tr>\n",
       "      <th>2</th>\n",
       "      <td>3</td>\n",
       "      <td>female</td>\n",
       "      <td>26.0</td>\n",
       "      <td>0</td>\n",
       "      <td>0</td>\n",
       "      <td>7.925</td>\n",
       "      <td>Miss</td>\n",
       "      <td>Unknown</td>\n",
       "      <td>0</td>\n",
       "      <td>7.925</td>\n",
       "      <td>78.0</td>\n",
       "      <td>3</td>\n",
       "      <td>78.0</td>\n",
       "      <td>C</td>\n",
       "      <td>C</td>\n",
       "      <td>C</td>\n",
       "      <td>B</td>\n",
       "    </tr>\n",
       "    <tr>\n",
       "      <th>3</th>\n",
       "      <td>1</td>\n",
       "      <td>female</td>\n",
       "      <td>35.0</td>\n",
       "      <td>1</td>\n",
       "      <td>0</td>\n",
       "      <td>53.1</td>\n",
       "      <td>Mrs</td>\n",
       "      <td>C</td>\n",
       "      <td>1</td>\n",
       "      <td>26.55</td>\n",
       "      <td>35.0</td>\n",
       "      <td>1</td>\n",
       "      <td>35.0</td>\n",
       "      <td>A</td>\n",
       "      <td>F</td>\n",
       "      <td>G</td>\n",
       "      <td>A</td>\n",
       "    </tr>\n",
       "    <tr>\n",
       "      <th>4</th>\n",
       "      <td>3</td>\n",
       "      <td>male</td>\n",
       "      <td>35.0</td>\n",
       "      <td>0</td>\n",
       "      <td>0</td>\n",
       "      <td>8.05</td>\n",
       "      <td>Mr</td>\n",
       "      <td>Unknown</td>\n",
       "      <td>0</td>\n",
       "      <td>8.05</td>\n",
       "      <td>105.0</td>\n",
       "      <td>6</td>\n",
       "      <td>210.0</td>\n",
       "      <td>D</td>\n",
       "      <td>F</td>\n",
       "      <td>C</td>\n",
       "      <td>D</td>\n",
       "    </tr>\n",
       "  </tbody>\n",
       "</table>\n",
       "</div>"
      ],
      "text/plain": [
       "   Pclass     Sex   Age  SibSp  Parch     Fare Title     Deck  Family_Size  \\\n",
       "0       3    male  22.0      1      0     7.25    Mr  Unknown            1   \n",
       "1       1  female  38.0      1      0  71.2833   Mrs        C            1   \n",
       "2       3  female  26.0      0      0    7.925  Miss  Unknown            0   \n",
       "3       1  female  35.0      1      0     53.1   Mrs        C            1   \n",
       "4       3    male  35.0      0      0     8.05    Mr  Unknown            0   \n",
       "\n",
       "  Fare_Per_Person  Age*Class  genderclass  genderclassage genclaCate AgeCate  \\\n",
       "0           3.625       66.0            6           132.0          D       B   \n",
       "1         35.6416       38.0            1            38.0          A       G   \n",
       "2           7.925       78.0            3            78.0          C       C   \n",
       "3           26.55       35.0            1            35.0          A       F   \n",
       "4            8.05      105.0            6           210.0          D       F   \n",
       "\n",
       "  FareCate genclageCate  \n",
       "0        A            C  \n",
       "1        H            A  \n",
       "2        C            B  \n",
       "3        G            A  \n",
       "4        C            D  "
      ]
     },
     "execution_count": 1308,
     "metadata": {},
     "output_type": "execute_result"
    }
   ],
   "source": [
    "df.head()"
   ]
  },
  {
   "cell_type": "code",
   "execution_count": 1309,
   "metadata": {},
   "outputs": [
    {
     "data": {
      "text/html": [
       "<div>\n",
       "<style>\n",
       "    .dataframe thead tr:only-child th {\n",
       "        text-align: right;\n",
       "    }\n",
       "\n",
       "    .dataframe thead th {\n",
       "        text-align: left;\n",
       "    }\n",
       "\n",
       "    .dataframe tbody tr th {\n",
       "        vertical-align: top;\n",
       "    }\n",
       "</style>\n",
       "<table border=\"1\" class=\"dataframe\">\n",
       "  <thead>\n",
       "    <tr style=\"text-align: right;\">\n",
       "      <th></th>\n",
       "      <th>Pclass</th>\n",
       "      <th>Sex</th>\n",
       "      <th>Age</th>\n",
       "      <th>SibSp</th>\n",
       "      <th>Parch</th>\n",
       "      <th>Fare</th>\n",
       "      <th>Title</th>\n",
       "      <th>Deck</th>\n",
       "      <th>Family_Size</th>\n",
       "      <th>Fare_Per_Person</th>\n",
       "      <th>Age*Class</th>\n",
       "      <th>genderclass</th>\n",
       "      <th>genderclassage</th>\n",
       "      <th>genclaCate</th>\n",
       "      <th>AgeCate</th>\n",
       "      <th>FareCate</th>\n",
       "      <th>genclageCate</th>\n",
       "    </tr>\n",
       "  </thead>\n",
       "  <tbody>\n",
       "    <tr>\n",
       "      <th>0</th>\n",
       "      <td>3</td>\n",
       "      <td>male</td>\n",
       "      <td>34.5</td>\n",
       "      <td>0</td>\n",
       "      <td>0</td>\n",
       "      <td>7.8292</td>\n",
       "      <td>Mr</td>\n",
       "      <td>Unknown</td>\n",
       "      <td>0</td>\n",
       "      <td>7.8292</td>\n",
       "      <td>103.5</td>\n",
       "      <td>6</td>\n",
       "      <td>207.0</td>\n",
       "      <td>D</td>\n",
       "      <td>F</td>\n",
       "      <td>B</td>\n",
       "      <td>D</td>\n",
       "    </tr>\n",
       "    <tr>\n",
       "      <th>1</th>\n",
       "      <td>3</td>\n",
       "      <td>female</td>\n",
       "      <td>47.0</td>\n",
       "      <td>1</td>\n",
       "      <td>0</td>\n",
       "      <td>7</td>\n",
       "      <td>Mrs</td>\n",
       "      <td>Unknown</td>\n",
       "      <td>1</td>\n",
       "      <td>3.5</td>\n",
       "      <td>141.0</td>\n",
       "      <td>3</td>\n",
       "      <td>141.0</td>\n",
       "      <td>C</td>\n",
       "      <td>H</td>\n",
       "      <td>A</td>\n",
       "      <td>C</td>\n",
       "    </tr>\n",
       "    <tr>\n",
       "      <th>2</th>\n",
       "      <td>2</td>\n",
       "      <td>male</td>\n",
       "      <td>62.0</td>\n",
       "      <td>0</td>\n",
       "      <td>0</td>\n",
       "      <td>9.6875</td>\n",
       "      <td>Mr</td>\n",
       "      <td>Unknown</td>\n",
       "      <td>0</td>\n",
       "      <td>9.6875</td>\n",
       "      <td>124.0</td>\n",
       "      <td>4</td>\n",
       "      <td>248.0</td>\n",
       "      <td>D</td>\n",
       "      <td>H</td>\n",
       "      <td>C</td>\n",
       "      <td>D</td>\n",
       "    </tr>\n",
       "    <tr>\n",
       "      <th>3</th>\n",
       "      <td>3</td>\n",
       "      <td>male</td>\n",
       "      <td>27.0</td>\n",
       "      <td>0</td>\n",
       "      <td>0</td>\n",
       "      <td>8.6625</td>\n",
       "      <td>Mr</td>\n",
       "      <td>Unknown</td>\n",
       "      <td>0</td>\n",
       "      <td>8.6625</td>\n",
       "      <td>81.0</td>\n",
       "      <td>6</td>\n",
       "      <td>162.0</td>\n",
       "      <td>D</td>\n",
       "      <td>C</td>\n",
       "      <td>C</td>\n",
       "      <td>D</td>\n",
       "    </tr>\n",
       "    <tr>\n",
       "      <th>4</th>\n",
       "      <td>3</td>\n",
       "      <td>female</td>\n",
       "      <td>22.0</td>\n",
       "      <td>1</td>\n",
       "      <td>1</td>\n",
       "      <td>12.2875</td>\n",
       "      <td>Mrs</td>\n",
       "      <td>Unknown</td>\n",
       "      <td>2</td>\n",
       "      <td>4.09583</td>\n",
       "      <td>66.0</td>\n",
       "      <td>3</td>\n",
       "      <td>66.0</td>\n",
       "      <td>C</td>\n",
       "      <td>B</td>\n",
       "      <td>D</td>\n",
       "      <td>B</td>\n",
       "    </tr>\n",
       "  </tbody>\n",
       "</table>\n",
       "</div>"
      ],
      "text/plain": [
       "   Pclass     Sex   Age  SibSp  Parch     Fare Title     Deck  Family_Size  \\\n",
       "0       3    male  34.5      0      0   7.8292    Mr  Unknown            0   \n",
       "1       3  female  47.0      1      0        7   Mrs  Unknown            1   \n",
       "2       2    male  62.0      0      0   9.6875    Mr  Unknown            0   \n",
       "3       3    male  27.0      0      0   8.6625    Mr  Unknown            0   \n",
       "4       3  female  22.0      1      1  12.2875   Mrs  Unknown            2   \n",
       "\n",
       "  Fare_Per_Person  Age*Class  genderclass  genderclassage genclaCate AgeCate  \\\n",
       "0          7.8292      103.5            6           207.0          D       F   \n",
       "1             3.5      141.0            3           141.0          C       H   \n",
       "2          9.6875      124.0            4           248.0          D       H   \n",
       "3          8.6625       81.0            6           162.0          D       C   \n",
       "4         4.09583       66.0            3            66.0          C       B   \n",
       "\n",
       "  FareCate genclageCate  \n",
       "0        B            D  \n",
       "1        A            C  \n",
       "2        C            D  \n",
       "3        C            D  \n",
       "4        D            B  "
      ]
     },
     "execution_count": 1309,
     "metadata": {},
     "output_type": "execute_result"
    }
   ],
   "source": [
    "df_test.head()"
   ]
  },
  {
   "cell_type": "code",
   "execution_count": 1310,
   "metadata": {},
   "outputs": [],
   "source": [
    "df['Fare'] = df['Fare'].apply(lambda x: float(x))\n",
    "df['Fare_Per_Person'] = df['Fare_Per_Person'].apply(lambda x: float(x))"
   ]
  },
  {
   "cell_type": "code",
   "execution_count": 1311,
   "metadata": {},
   "outputs": [],
   "source": [
    "df_test['Fare'] = df_test['Fare'].apply(lambda x: float(x))\n",
    "df_test['Fare_Per_Person'] = df_test['Fare_Per_Person'].apply(lambda x: float(x))"
   ]
  },
  {
   "cell_type": "code",
   "execution_count": 1312,
   "metadata": {
    "collapsed": true
   },
   "outputs": [],
   "source": [
    "def logit_cv(data,label,weig):\n",
    "    logreg = linear_model.LogisticRegression(fit_intercept=True, C=1e5)\n",
    "    kf = KFold(n_splits=10, shuffle = True)\n",
    "    folds = kf.split(data)\n",
    "    score = []\n",
    "    for train,test in folds:\n",
    "        data_train, data_test = data[train],data[test]\n",
    "        label_train, label_test = label[train],label[test]\n",
    "        weight = np.ones(len(label_train))\n",
    "        weight[np.where(label_train>0)]= 1 #weig=1.6\n",
    "        logreg.fit(data_train, label_train, sample_weight=weight)\n",
    "        Z = logreg.score(data_test, label_test)\n",
    "        score.append(Z)\n",
    "    return [np.mean(score),logreg]"
   ]
  },
  {
   "cell_type": "code",
   "execution_count": 1313,
   "metadata": {
    "collapsed": true
   },
   "outputs": [],
   "source": [
    "def forward_fea_select_logit(data, label, n, weig):\n",
    "    colist = list(data)\n",
    "    selist = []\n",
    "    left = len(colist)-n\n",
    "    cm = []\n",
    "    maxlist = []\n",
    "    maxacc = 0\n",
    "    while (len(colist)>left):\n",
    "        maxfeaval = 0\n",
    "        temp = 0\n",
    "        maxfea = ''\n",
    "        for col in colist:\n",
    "            selist.append(col)\n",
    "            fea = preprocessing.scale(data[selist])\n",
    "            selist.remove(col)\n",
    "            [temp,logreg] = logit_cv(fea,label,weig)\n",
    "            if temp>maxfeaval:\n",
    "                maxfeaval = temp\n",
    "                maxfea = col\n",
    "        colist.remove(maxfea)\n",
    "        selist.append(maxfea)\n",
    "        if maxfeaval>maxacc:\n",
    "            maxacc = maxfeaval\n",
    "            maxlist.append(maxfea)\n",
    "        print('Feature List:',maxlist)\n",
    "        print('Accuracy: %.2f'%maxacc)\n",
    "    return [maxlist,logreg]"
   ]
  },
  {
   "cell_type": "code",
   "execution_count": 1314,
   "metadata": {},
   "outputs": [
    {
     "data": {
      "text/plain": [
       "(891, 49)"
      ]
     },
     "execution_count": 1314,
     "metadata": {},
     "output_type": "execute_result"
    }
   ],
   "source": [
    "df_dummy = pd.get_dummies(df)\n",
    "df_dummy.shape"
   ]
  },
  {
   "cell_type": "code",
   "execution_count": 1315,
   "metadata": {},
   "outputs": [
    {
     "name": "stdout",
     "output_type": "stream",
     "text": [
      "['Pclass', 'Age', 'SibSp', 'Parch', 'Fare', 'Family_Size', 'Fare_Per_Person', 'Age*Class', 'genderclass', 'genderclassage', 'Sex_female', 'Sex_male', 'Title_Master', 'Title_Miss', 'Title_Mr', 'Title_Mrs', 'Deck_A', 'Deck_B', 'Deck_C', 'Deck_D', 'Deck_E', 'Deck_F', 'Deck_G', 'Deck_T', 'Deck_Unknown', 'genclaCate_A', 'genclaCate_B', 'genclaCate_C', 'genclaCate_D', 'AgeCate_A', 'AgeCate_B', 'AgeCate_C', 'AgeCate_D', 'AgeCate_F', 'AgeCate_G', 'AgeCate_H', 'FareCate_A', 'FareCate_B', 'FareCate_C', 'FareCate_D', 'FareCate_E', 'FareCate_F', 'FareCate_G', 'FareCate_H', 'FareCate_I', 'genclageCate_A', 'genclageCate_B', 'genclageCate_C', 'genclageCate_D']\n"
     ]
    }
   ],
   "source": [
    "print(list(df_dummy))"
   ]
  },
  {
   "cell_type": "code",
   "execution_count": 1342,
   "metadata": {},
   "outputs": [],
   "source": [
    "data1 = preprocessing.scale(df_dummy)"
   ]
  },
  {
   "cell_type": "code",
   "execution_count": 1343,
   "metadata": {},
   "outputs": [
    {
     "data": {
      "text/plain": [
       "[0.82828963795255939,\n",
       " LogisticRegression(C=100000.0, class_weight=None, dual=False,\n",
       "           fit_intercept=True, intercept_scaling=1, max_iter=100,\n",
       "           multi_class='ovr', n_jobs=1, penalty='l2', random_state=None,\n",
       "           solver='liblinear', tol=0.0001, verbose=0, warm_start=False)]"
      ]
     },
     "execution_count": 1343,
     "metadata": {},
     "output_type": "execute_result"
    }
   ],
   "source": [
    "logit_cv(data1,label,weig=1)"
   ]
  },
  {
   "cell_type": "code",
   "execution_count": 1347,
   "metadata": {},
   "outputs": [
    {
     "name": "stdout",
     "output_type": "stream",
     "text": [
      "Feature List: ['Title_Mr']\n",
      "Accuracy: 0.79\n",
      "Feature List: ['Title_Mr', 'SibSp']\n",
      "Accuracy: 0.82\n",
      "Feature List: ['Title_Mr', 'SibSp', 'Deck_E']\n",
      "Accuracy: 0.82\n",
      "Feature List: ['Title_Mr', 'SibSp', 'Deck_E', 'AgeCate_F']\n",
      "Accuracy: 0.82\n",
      "Feature List: ['Title_Mr', 'SibSp', 'Deck_E', 'AgeCate_F', 'FareCate_I']\n",
      "Accuracy: 0.83\n",
      "Feature List: ['Title_Mr', 'SibSp', 'Deck_E', 'AgeCate_F', 'FareCate_I', 'genderclassage']\n",
      "Accuracy: 0.83\n",
      "Feature List: ['Title_Mr', 'SibSp', 'Deck_E', 'AgeCate_F', 'FareCate_I', 'genderclassage', 'genclaCate_C']\n",
      "Accuracy: 0.83\n",
      "Feature List: ['Title_Mr', 'SibSp', 'Deck_E', 'AgeCate_F', 'FareCate_I', 'genderclassage', 'genclaCate_C', 'genclageCate_A']\n",
      "Accuracy: 0.84\n",
      "Feature List: ['Title_Mr', 'SibSp', 'Deck_E', 'AgeCate_F', 'FareCate_I', 'genderclassage', 'genclaCate_C', 'genclageCate_A', 'Sex_male']\n",
      "Accuracy: 0.84\n",
      "Feature List: ['Title_Mr', 'SibSp', 'Deck_E', 'AgeCate_F', 'FareCate_I', 'genderclassage', 'genclaCate_C', 'genclageCate_A', 'Sex_male', 'Deck_D']\n",
      "Accuracy: 0.84\n",
      "Feature List: ['Title_Mr', 'SibSp', 'Deck_E', 'AgeCate_F', 'FareCate_I', 'genderclassage', 'genclaCate_C', 'genclageCate_A', 'Sex_male', 'Deck_D']\n",
      "Accuracy: 0.84\n",
      "Feature List: ['Title_Mr', 'SibSp', 'Deck_E', 'AgeCate_F', 'FareCate_I', 'genderclassage', 'genclaCate_C', 'genclageCate_A', 'Sex_male', 'Deck_D']\n",
      "Accuracy: 0.84\n",
      "Feature List: ['Title_Mr', 'SibSp', 'Deck_E', 'AgeCate_F', 'FareCate_I', 'genderclassage', 'genclaCate_C', 'genclageCate_A', 'Sex_male', 'Deck_D']\n",
      "Accuracy: 0.84\n",
      "Feature List: ['Title_Mr', 'SibSp', 'Deck_E', 'AgeCate_F', 'FareCate_I', 'genderclassage', 'genclaCate_C', 'genclageCate_A', 'Sex_male', 'Deck_D']\n",
      "Accuracy: 0.84\n",
      "Feature List: ['Title_Mr', 'SibSp', 'Deck_E', 'AgeCate_F', 'FareCate_I', 'genderclassage', 'genclaCate_C', 'genclageCate_A', 'Sex_male', 'Deck_D']\n",
      "Accuracy: 0.84\n",
      "Feature List: ['Title_Mr', 'SibSp', 'Deck_E', 'AgeCate_F', 'FareCate_I', 'genderclassage', 'genclaCate_C', 'genclageCate_A', 'Sex_male', 'Deck_D']\n",
      "Accuracy: 0.84\n",
      "Feature List: ['Title_Mr', 'SibSp', 'Deck_E', 'AgeCate_F', 'FareCate_I', 'genderclassage', 'genclaCate_C', 'genclageCate_A', 'Sex_male', 'Deck_D']\n",
      "Accuracy: 0.84\n",
      "Feature List: ['Title_Mr', 'SibSp', 'Deck_E', 'AgeCate_F', 'FareCate_I', 'genderclassage', 'genclaCate_C', 'genclageCate_A', 'Sex_male', 'Deck_D']\n",
      "Accuracy: 0.84\n",
      "Feature List: ['Title_Mr', 'SibSp', 'Deck_E', 'AgeCate_F', 'FareCate_I', 'genderclassage', 'genclaCate_C', 'genclageCate_A', 'Sex_male', 'Deck_D']\n",
      "Accuracy: 0.84\n",
      "Feature List: ['Title_Mr', 'SibSp', 'Deck_E', 'AgeCate_F', 'FareCate_I', 'genderclassage', 'genclaCate_C', 'genclageCate_A', 'Sex_male', 'Deck_D']\n",
      "Accuracy: 0.84\n",
      "Feature List: ['Title_Mr', 'SibSp', 'Deck_E', 'AgeCate_F', 'FareCate_I', 'genderclassage', 'genclaCate_C', 'genclageCate_A', 'Sex_male', 'Deck_D']\n",
      "Accuracy: 0.84\n",
      "Feature List: ['Title_Mr', 'SibSp', 'Deck_E', 'AgeCate_F', 'FareCate_I', 'genderclassage', 'genclaCate_C', 'genclageCate_A', 'Sex_male', 'Deck_D']\n",
      "Accuracy: 0.84\n",
      "Feature List: ['Title_Mr', 'SibSp', 'Deck_E', 'AgeCate_F', 'FareCate_I', 'genderclassage', 'genclaCate_C', 'genclageCate_A', 'Sex_male', 'Deck_D']\n",
      "Accuracy: 0.84\n",
      "Feature List: ['Title_Mr', 'SibSp', 'Deck_E', 'AgeCate_F', 'FareCate_I', 'genderclassage', 'genclaCate_C', 'genclageCate_A', 'Sex_male', 'Deck_D']\n",
      "Accuracy: 0.84\n",
      "Feature List: ['Title_Mr', 'SibSp', 'Deck_E', 'AgeCate_F', 'FareCate_I', 'genderclassage', 'genclaCate_C', 'genclageCate_A', 'Sex_male', 'Deck_D']\n",
      "Accuracy: 0.84\n",
      "Feature List: ['Title_Mr', 'SibSp', 'Deck_E', 'AgeCate_F', 'FareCate_I', 'genderclassage', 'genclaCate_C', 'genclageCate_A', 'Sex_male', 'Deck_D']\n",
      "Accuracy: 0.84\n",
      "Feature List: ['Title_Mr', 'SibSp', 'Deck_E', 'AgeCate_F', 'FareCate_I', 'genderclassage', 'genclaCate_C', 'genclageCate_A', 'Sex_male', 'Deck_D']\n",
      "Accuracy: 0.84\n",
      "Feature List: ['Title_Mr', 'SibSp', 'Deck_E', 'AgeCate_F', 'FareCate_I', 'genderclassage', 'genclaCate_C', 'genclageCate_A', 'Sex_male', 'Deck_D']\n",
      "Accuracy: 0.84\n",
      "Feature List: ['Title_Mr', 'SibSp', 'Deck_E', 'AgeCate_F', 'FareCate_I', 'genderclassage', 'genclaCate_C', 'genclageCate_A', 'Sex_male', 'Deck_D', 'AgeCate_B']\n",
      "Accuracy: 0.84\n",
      "Feature List: ['Title_Mr', 'SibSp', 'Deck_E', 'AgeCate_F', 'FareCate_I', 'genderclassage', 'genclaCate_C', 'genclageCate_A', 'Sex_male', 'Deck_D', 'AgeCate_B']\n",
      "Accuracy: 0.84\n",
      "Feature List: ['Title_Mr', 'SibSp', 'Deck_E', 'AgeCate_F', 'FareCate_I', 'genderclassage', 'genclaCate_C', 'genclageCate_A', 'Sex_male', 'Deck_D', 'AgeCate_B', 'Age*Class']\n",
      "Accuracy: 0.84\n",
      "Feature List: ['Title_Mr', 'SibSp', 'Deck_E', 'AgeCate_F', 'FareCate_I', 'genderclassage', 'genclaCate_C', 'genclageCate_A', 'Sex_male', 'Deck_D', 'AgeCate_B', 'Age*Class']\n",
      "Accuracy: 0.84\n",
      "Feature List: ['Title_Mr', 'SibSp', 'Deck_E', 'AgeCate_F', 'FareCate_I', 'genderclassage', 'genclaCate_C', 'genclageCate_A', 'Sex_male', 'Deck_D', 'AgeCate_B', 'Age*Class']\n",
      "Accuracy: 0.84\n",
      "Feature List: ['Title_Mr', 'SibSp', 'Deck_E', 'AgeCate_F', 'FareCate_I', 'genderclassage', 'genclaCate_C', 'genclageCate_A', 'Sex_male', 'Deck_D', 'AgeCate_B', 'Age*Class']\n",
      "Accuracy: 0.84\n",
      "Feature List: ['Title_Mr', 'SibSp', 'Deck_E', 'AgeCate_F', 'FareCate_I', 'genderclassage', 'genclaCate_C', 'genclageCate_A', 'Sex_male', 'Deck_D', 'AgeCate_B', 'Age*Class']\n",
      "Accuracy: 0.84\n",
      "Feature List: ['Title_Mr', 'SibSp', 'Deck_E', 'AgeCate_F', 'FareCate_I', 'genderclassage', 'genclaCate_C', 'genclageCate_A', 'Sex_male', 'Deck_D', 'AgeCate_B', 'Age*Class']\n",
      "Accuracy: 0.84\n",
      "Feature List: ['Title_Mr', 'SibSp', 'Deck_E', 'AgeCate_F', 'FareCate_I', 'genderclassage', 'genclaCate_C', 'genclageCate_A', 'Sex_male', 'Deck_D', 'AgeCate_B', 'Age*Class']\n",
      "Accuracy: 0.84\n",
      "Feature List: ['Title_Mr', 'SibSp', 'Deck_E', 'AgeCate_F', 'FareCate_I', 'genderclassage', 'genclaCate_C', 'genclageCate_A', 'Sex_male', 'Deck_D', 'AgeCate_B', 'Age*Class']\n",
      "Accuracy: 0.84\n",
      "Feature List: ['Title_Mr', 'SibSp', 'Deck_E', 'AgeCate_F', 'FareCate_I', 'genderclassage', 'genclaCate_C', 'genclageCate_A', 'Sex_male', 'Deck_D', 'AgeCate_B', 'Age*Class']\n",
      "Accuracy: 0.84\n",
      "Feature List: ['Title_Mr', 'SibSp', 'Deck_E', 'AgeCate_F', 'FareCate_I', 'genderclassage', 'genclaCate_C', 'genclageCate_A', 'Sex_male', 'Deck_D', 'AgeCate_B', 'Age*Class']\n",
      "Accuracy: 0.84\n"
     ]
    }
   ],
   "source": [
    "N = 40\n",
    "[selist,logreg] = forward_fea_select_logit(df_dummy, label, N, weight)"
   ]
  },
  {
   "cell_type": "code",
   "execution_count": 1348,
   "metadata": {},
   "outputs": [
    {
     "data": {
      "text/plain": [
       "LogisticRegression(C=100000.0, class_weight=None, dual=False,\n",
       "          fit_intercept=True, intercept_scaling=1, max_iter=100,\n",
       "          multi_class='ovr', n_jobs=1, penalty='l2', random_state=None,\n",
       "          solver='liblinear', tol=0.0001, verbose=0, warm_start=False)"
      ]
     },
     "execution_count": 1348,
     "metadata": {},
     "output_type": "execute_result"
    }
   ],
   "source": [
    "logreg = linear_model.LogisticRegression(fit_intercept=True, C=1e5)\n",
    "data = preprocessing.scale(df_dummy[selist])\n",
    "logreg.fit(data, label)"
   ]
  },
  {
   "cell_type": "code",
   "execution_count": 1349,
   "metadata": {},
   "outputs": [
    {
     "data": {
      "text/plain": [
       "0.84175084175084181"
      ]
     },
     "execution_count": 1349,
     "metadata": {},
     "output_type": "execute_result"
    }
   ],
   "source": [
    "Z = logreg.predict(data)\n",
    "accuracy_score(Z, label)"
   ]
  },
  {
   "cell_type": "code",
   "execution_count": 1353,
   "metadata": {},
   "outputs": [],
   "source": [
    "df_test_dummy = pd.get_dummies(df_test)\n",
    "data_test = preprocessing.scale(df_test_dummy[selist])"
   ]
  },
  {
   "cell_type": "code",
   "execution_count": 1355,
   "metadata": {},
   "outputs": [
    {
     "name": "stdout",
     "output_type": "stream",
     "text": [
      "[0 0 0 0 0 0 1 0 1 0 0 0 1 0 1 1 0 0 0 0 0 1 1 0 1 0 1 0 0 0 0 0 0 0 0 0 1\n",
      " 1 0 0 0 1 0 1 1 0 0 0 1 0 0 0 1 1 0 0 0 0 0 1 0 0 0 0 1 1 1 0 0 1 1 0 1 1\n",
      " 1 0 0 1 0 1 1 0 0 0 0 0 1 1 1 1 0 0 1 0 0 0 1 0 1 0 1 0 0 0 1 0 0 0 0 0 0\n",
      " 1 1 1 1 0 0 1 0 1 1 0 1 0 0 1 0 0 0 0 0 0 1 0 0 0 0 0 1 0 0 1 0 0 0 0 1 0\n",
      " 0 0 1 0 0 0 0 0 1 1 1 1 1 1 1 0 0 0 0 0 1 0 0 0 0 0 0 1 1 0 1 1 0 0 1 0 1\n",
      " 0 1 0 0 0 0 0 1 0 1 0 1 1 0 1 1 1 0 1 0 0 1 0 1 0 0 0 0 1 0 0 1 0 1 0 1 0\n",
      " 1 0 1 1 0 1 0 0 0 1 0 0 0 0 0 0 1 1 1 1 0 0 0 0 1 0 1 0 1 0 0 0 0 0 0 0 1\n",
      " 0 0 0 1 1 0 0 0 0 1 0 0 0 1 0 0 1 0 0 0 0 1 1 1 1 1 0 0 0 1 0 0 1 0 0 0 0\n",
      " 1 0 0 0 0 1 0 0 1 1 0 1 0 0 0 0 0 0 1 1 0 0 0 0 0 0 0 0 1 0 1 0 0 0 1 0 0\n",
      " 0 0 0 0 0 0 1 0 0 0 1 0 1 0 0 0 1 1 0 0 0 1 1 1 0 0 0 0 1 1 0 1 0 0 0 1 0\n",
      " 0 1 0 0 1 1 0 0 0 0 0 0 1 0 0 1 0 0 0 0 0 1 1 0 0 1 0 1 0 0 1 0 1 0 0 0 0\n",
      " 0 1 1 1 1 1 0 1 0 0 0]\n"
     ]
    }
   ],
   "source": [
    "res_logit = logreg.predict(data_test)\n",
    "print(res_logit)"
   ]
  },
  {
   "cell_type": "markdown",
   "metadata": {},
   "source": [
    "#### Random Forest"
   ]
  },
  {
   "cell_type": "code",
   "execution_count": 1363,
   "metadata": {
    "collapsed": true
   },
   "outputs": [],
   "source": [
    "def randomf_cv(data, label):\n",
    "    clf = RandomForestClassifier(max_depth=100, random_state=0)\n",
    "    kf = KFold(n_splits=10, shuffle = True)\n",
    "    folds = kf.split(data)\n",
    "    score = []\n",
    "    for train,test in folds:\n",
    "        data_train, data_test = data[train],data[test]\n",
    "        label_train, label_test = label[train],label[test]\n",
    "        clf.fit(data_train, label_train)\n",
    "        Z = clf.score(data_test, label_test)\n",
    "        score.append(Z)\n",
    "    return [np.mean(score),clf]"
   ]
  },
  {
   "cell_type": "code",
   "execution_count": 1364,
   "metadata": {},
   "outputs": [
    {
     "name": "stdout",
     "output_type": "stream",
     "text": [
      "['Title_Mr', 'SibSp', 'Deck_E', 'AgeCate_F', 'FareCate_I', 'genderclassage', 'genclaCate_C', 'genclageCate_A', 'Sex_male', 'Deck_D', 'AgeCate_B', 'Age*Class']\n"
     ]
    }
   ],
   "source": [
    "print(selist)"
   ]
  },
  {
   "cell_type": "code",
   "execution_count": 1365,
   "metadata": {
    "collapsed": true
   },
   "outputs": [],
   "source": [
    "df1 = df_dummy"
   ]
  },
  {
   "cell_type": "code",
   "execution_count": 1366,
   "metadata": {
    "collapsed": true
   },
   "outputs": [],
   "source": [
    "# data = preprocessing.scale(df_dummy)\n",
    "# [res, clf] = randomf_cv(data, label)\n",
    "# print(res)"
   ]
  },
  {
   "cell_type": "code",
   "execution_count": 1367,
   "metadata": {},
   "outputs": [],
   "source": [
    "df1['Survived'] = label"
   ]
  },
  {
   "cell_type": "code",
   "execution_count": 1368,
   "metadata": {},
   "outputs": [
    {
     "data": {
      "text/html": [
       "<div>\n",
       "<style>\n",
       "    .dataframe thead tr:only-child th {\n",
       "        text-align: right;\n",
       "    }\n",
       "\n",
       "    .dataframe thead th {\n",
       "        text-align: left;\n",
       "    }\n",
       "\n",
       "    .dataframe tbody tr th {\n",
       "        vertical-align: top;\n",
       "    }\n",
       "</style>\n",
       "<table border=\"1\" class=\"dataframe\">\n",
       "  <thead>\n",
       "    <tr style=\"text-align: right;\">\n",
       "      <th></th>\n",
       "      <th>Pclass</th>\n",
       "      <th>Age</th>\n",
       "      <th>SibSp</th>\n",
       "      <th>Parch</th>\n",
       "      <th>Fare</th>\n",
       "      <th>Family_Size</th>\n",
       "      <th>Fare_Per_Person</th>\n",
       "      <th>Age*Class</th>\n",
       "      <th>genderclass</th>\n",
       "      <th>genderclassage</th>\n",
       "      <th>...</th>\n",
       "      <th>FareCate_E</th>\n",
       "      <th>FareCate_F</th>\n",
       "      <th>FareCate_G</th>\n",
       "      <th>FareCate_H</th>\n",
       "      <th>FareCate_I</th>\n",
       "      <th>genclageCate_A</th>\n",
       "      <th>genclageCate_B</th>\n",
       "      <th>genclageCate_C</th>\n",
       "      <th>genclageCate_D</th>\n",
       "      <th>Survived</th>\n",
       "    </tr>\n",
       "  </thead>\n",
       "  <tbody>\n",
       "    <tr>\n",
       "      <th>0</th>\n",
       "      <td>3</td>\n",
       "      <td>22.0</td>\n",
       "      <td>1</td>\n",
       "      <td>0</td>\n",
       "      <td>7.2500</td>\n",
       "      <td>1</td>\n",
       "      <td>3.62500</td>\n",
       "      <td>66.0</td>\n",
       "      <td>6</td>\n",
       "      <td>132.0</td>\n",
       "      <td>...</td>\n",
       "      <td>0</td>\n",
       "      <td>0</td>\n",
       "      <td>0</td>\n",
       "      <td>0</td>\n",
       "      <td>0</td>\n",
       "      <td>0</td>\n",
       "      <td>0</td>\n",
       "      <td>1</td>\n",
       "      <td>0</td>\n",
       "      <td>0</td>\n",
       "    </tr>\n",
       "    <tr>\n",
       "      <th>1</th>\n",
       "      <td>1</td>\n",
       "      <td>38.0</td>\n",
       "      <td>1</td>\n",
       "      <td>0</td>\n",
       "      <td>71.2833</td>\n",
       "      <td>1</td>\n",
       "      <td>35.64165</td>\n",
       "      <td>38.0</td>\n",
       "      <td>1</td>\n",
       "      <td>38.0</td>\n",
       "      <td>...</td>\n",
       "      <td>0</td>\n",
       "      <td>0</td>\n",
       "      <td>0</td>\n",
       "      <td>1</td>\n",
       "      <td>0</td>\n",
       "      <td>1</td>\n",
       "      <td>0</td>\n",
       "      <td>0</td>\n",
       "      <td>0</td>\n",
       "      <td>1</td>\n",
       "    </tr>\n",
       "    <tr>\n",
       "      <th>2</th>\n",
       "      <td>3</td>\n",
       "      <td>26.0</td>\n",
       "      <td>0</td>\n",
       "      <td>0</td>\n",
       "      <td>7.9250</td>\n",
       "      <td>0</td>\n",
       "      <td>7.92500</td>\n",
       "      <td>78.0</td>\n",
       "      <td>3</td>\n",
       "      <td>78.0</td>\n",
       "      <td>...</td>\n",
       "      <td>0</td>\n",
       "      <td>0</td>\n",
       "      <td>0</td>\n",
       "      <td>0</td>\n",
       "      <td>0</td>\n",
       "      <td>0</td>\n",
       "      <td>1</td>\n",
       "      <td>0</td>\n",
       "      <td>0</td>\n",
       "      <td>1</td>\n",
       "    </tr>\n",
       "    <tr>\n",
       "      <th>3</th>\n",
       "      <td>1</td>\n",
       "      <td>35.0</td>\n",
       "      <td>1</td>\n",
       "      <td>0</td>\n",
       "      <td>53.1000</td>\n",
       "      <td>1</td>\n",
       "      <td>26.55000</td>\n",
       "      <td>35.0</td>\n",
       "      <td>1</td>\n",
       "      <td>35.0</td>\n",
       "      <td>...</td>\n",
       "      <td>0</td>\n",
       "      <td>0</td>\n",
       "      <td>1</td>\n",
       "      <td>0</td>\n",
       "      <td>0</td>\n",
       "      <td>1</td>\n",
       "      <td>0</td>\n",
       "      <td>0</td>\n",
       "      <td>0</td>\n",
       "      <td>1</td>\n",
       "    </tr>\n",
       "    <tr>\n",
       "      <th>4</th>\n",
       "      <td>3</td>\n",
       "      <td>35.0</td>\n",
       "      <td>0</td>\n",
       "      <td>0</td>\n",
       "      <td>8.0500</td>\n",
       "      <td>0</td>\n",
       "      <td>8.05000</td>\n",
       "      <td>105.0</td>\n",
       "      <td>6</td>\n",
       "      <td>210.0</td>\n",
       "      <td>...</td>\n",
       "      <td>0</td>\n",
       "      <td>0</td>\n",
       "      <td>0</td>\n",
       "      <td>0</td>\n",
       "      <td>0</td>\n",
       "      <td>0</td>\n",
       "      <td>0</td>\n",
       "      <td>0</td>\n",
       "      <td>1</td>\n",
       "      <td>0</td>\n",
       "    </tr>\n",
       "  </tbody>\n",
       "</table>\n",
       "<p>5 rows × 50 columns</p>\n",
       "</div>"
      ],
      "text/plain": [
       "   Pclass   Age  SibSp  Parch     Fare  Family_Size  Fare_Per_Person  \\\n",
       "0       3  22.0      1      0   7.2500            1          3.62500   \n",
       "1       1  38.0      1      0  71.2833            1         35.64165   \n",
       "2       3  26.0      0      0   7.9250            0          7.92500   \n",
       "3       1  35.0      1      0  53.1000            1         26.55000   \n",
       "4       3  35.0      0      0   8.0500            0          8.05000   \n",
       "\n",
       "   Age*Class  genderclass  genderclassage    ...     FareCate_E  FareCate_F  \\\n",
       "0       66.0            6           132.0    ...              0           0   \n",
       "1       38.0            1            38.0    ...              0           0   \n",
       "2       78.0            3            78.0    ...              0           0   \n",
       "3       35.0            1            35.0    ...              0           0   \n",
       "4      105.0            6           210.0    ...              0           0   \n",
       "\n",
       "   FareCate_G  FareCate_H  FareCate_I  genclageCate_A  genclageCate_B  \\\n",
       "0           0           0           0               0               0   \n",
       "1           0           1           0               1               0   \n",
       "2           0           0           0               0               1   \n",
       "3           1           0           0               1               0   \n",
       "4           0           0           0               0               0   \n",
       "\n",
       "   genclageCate_C  genclageCate_D  Survived  \n",
       "0               1               0         0  \n",
       "1               0               0         1  \n",
       "2               0               0         1  \n",
       "3               0               0         1  \n",
       "4               0               1         0  \n",
       "\n",
       "[5 rows x 50 columns]"
      ]
     },
     "execution_count": 1368,
     "metadata": {},
     "output_type": "execute_result"
    }
   ],
   "source": [
    "df1.head()"
   ]
  },
  {
   "cell_type": "code",
   "execution_count": 1372,
   "metadata": {},
   "outputs": [
    {
     "name": "stdout",
     "output_type": "stream",
     "text": [
      "Title_Mr + SibSp + Deck_E + AgeCate_F + FareCate_I + genderclassage + genclaCate_C + genclageCate_A + Sex_male + Deck_D + AgeCate_B\n"
     ]
    }
   ],
   "source": [
    "form = ''\n",
    "selist.remove('Age*Class')\n",
    "for fea in selist[:-1]:\n",
    "    form = form + str(fea)+' + '\n",
    "form = form + str(selist[-1])\n",
    "print(form)"
   ]
  },
  {
   "cell_type": "code",
   "execution_count": 1373,
   "metadata": {},
   "outputs": [
    {
     "name": "stdout",
     "output_type": "stream",
     "text": [
      "Survived ~ Title_Mr + SibSp + Deck_E + AgeCate_F + FareCate_I + genderclassage + genclaCate_C + genclageCate_A + Sex_male + Deck_D + AgeCate_B\n"
     ]
    }
   ],
   "source": [
    "formula_ml = 'Survived ~ '+form\n",
    "print(formula_ml)"
   ]
  },
  {
   "cell_type": "code",
   "execution_count": 796,
   "metadata": {
    "collapsed": true
   },
   "outputs": [],
   "source": [
    "# formula_ml = 'Survived ~ Title_Mr + SibSp + Deck_E + Sex_male + Sex_female + FareCate_A + FareCate_B + AgeCate_H + FareCate_I + Age'"
   ]
  },
  {
   "cell_type": "code",
   "execution_count": 797,
   "metadata": {
    "collapsed": true
   },
   "outputs": [],
   "source": [
    "#formula_ml = 'Survived ~ Pclass + Age + Fare + Family_Size + Sex_female + Fare_Per_Person'"
   ]
  },
  {
   "cell_type": "code",
   "execution_count": 1103,
   "metadata": {
    "collapsed": true
   },
   "outputs": [],
   "source": [
    "#feaList = ['Pclass', 'Age', 'Fare', 'Family_Size', 'Sex_female', 'Fare_Per_Person']"
   ]
  },
  {
   "cell_type": "code",
   "execution_count": 1374,
   "metadata": {},
   "outputs": [
    {
     "name": "stdout",
     "output_type": "stream",
     "text": [
      "Mean accuracy of Random Forest Predictions on the data was: 0.9124579124579124\n"
     ]
    }
   ],
   "source": [
    "# Create the random forest model and fit the model to our training data\n",
    "y, x = dmatrices(formula_ml, data=df1, return_type='dataframe')\n",
    "# RandomForestClassifier expects a 1 demensional NumPy array, so we convert\n",
    "y = np.asarray(y).ravel()\n",
    "#instantiate and fit our model\n",
    "results_rf = ske.RandomForestClassifier(n_estimators=100).fit(x, y)\n",
    "# Score the results\n",
    "score = results_rf.score(x, y)\n",
    "print(\"Mean accuracy of Random Forest Predictions on the data was: {0}\".format(score))"
   ]
  },
  {
   "cell_type": "code",
   "execution_count": 1375,
   "metadata": {},
   "outputs": [
    {
     "name": "stdout",
     "output_type": "stream",
     "text": [
      "   Intercept  Title_Mr  SibSp  Deck_E  AgeCate_F  FareCate_I  genderclassage  \\\n",
      "0        1.0       1.0    1.0     0.0        0.0         0.0           132.0   \n",
      "1        1.0       0.0    1.0     0.0        0.0         0.0            38.0   \n",
      "2        1.0       0.0    0.0     0.0        0.0         0.0            78.0   \n",
      "3        1.0       0.0    1.0     0.0        1.0         0.0            35.0   \n",
      "4        1.0       1.0    0.0     0.0        1.0         0.0           210.0   \n",
      "\n",
      "   genclaCate_C  genclageCate_A  Sex_male  Deck_D  AgeCate_B  \n",
      "0           0.0             0.0       1.0     0.0        1.0  \n",
      "1           0.0             1.0       0.0     0.0        0.0  \n",
      "2           1.0             0.0       0.0     0.0        0.0  \n",
      "3           0.0             1.0       0.0     0.0        0.0  \n",
      "4           0.0             0.0       1.0     0.0        0.0  \n"
     ]
    }
   ],
   "source": [
    "print(x.head())"
   ]
  },
  {
   "cell_type": "code",
   "execution_count": 1376,
   "metadata": {},
   "outputs": [],
   "source": [
    "df2 = df_test_dummy[selist]"
   ]
  },
  {
   "cell_type": "code",
   "execution_count": 1377,
   "metadata": {},
   "outputs": [],
   "source": [
    "df2.insert(0, 'Intercept', 1)\n",
    "# df2['Intercept'] = 1"
   ]
  },
  {
   "cell_type": "code",
   "execution_count": 1378,
   "metadata": {},
   "outputs": [
    {
     "data": {
      "text/html": [
       "<div>\n",
       "<style>\n",
       "    .dataframe thead tr:only-child th {\n",
       "        text-align: right;\n",
       "    }\n",
       "\n",
       "    .dataframe thead th {\n",
       "        text-align: left;\n",
       "    }\n",
       "\n",
       "    .dataframe tbody tr th {\n",
       "        vertical-align: top;\n",
       "    }\n",
       "</style>\n",
       "<table border=\"1\" class=\"dataframe\">\n",
       "  <thead>\n",
       "    <tr style=\"text-align: right;\">\n",
       "      <th></th>\n",
       "      <th>Intercept</th>\n",
       "      <th>Title_Mr</th>\n",
       "      <th>SibSp</th>\n",
       "      <th>Deck_E</th>\n",
       "      <th>AgeCate_F</th>\n",
       "      <th>FareCate_I</th>\n",
       "      <th>genderclassage</th>\n",
       "      <th>genclaCate_C</th>\n",
       "      <th>genclageCate_A</th>\n",
       "      <th>Sex_male</th>\n",
       "      <th>Deck_D</th>\n",
       "      <th>AgeCate_B</th>\n",
       "    </tr>\n",
       "  </thead>\n",
       "  <tbody>\n",
       "    <tr>\n",
       "      <th>0</th>\n",
       "      <td>1</td>\n",
       "      <td>1</td>\n",
       "      <td>0</td>\n",
       "      <td>0</td>\n",
       "      <td>1</td>\n",
       "      <td>0</td>\n",
       "      <td>207.0</td>\n",
       "      <td>0</td>\n",
       "      <td>0</td>\n",
       "      <td>1</td>\n",
       "      <td>0</td>\n",
       "      <td>0</td>\n",
       "    </tr>\n",
       "    <tr>\n",
       "      <th>1</th>\n",
       "      <td>1</td>\n",
       "      <td>0</td>\n",
       "      <td>1</td>\n",
       "      <td>0</td>\n",
       "      <td>0</td>\n",
       "      <td>0</td>\n",
       "      <td>141.0</td>\n",
       "      <td>1</td>\n",
       "      <td>0</td>\n",
       "      <td>0</td>\n",
       "      <td>0</td>\n",
       "      <td>0</td>\n",
       "    </tr>\n",
       "    <tr>\n",
       "      <th>2</th>\n",
       "      <td>1</td>\n",
       "      <td>1</td>\n",
       "      <td>0</td>\n",
       "      <td>0</td>\n",
       "      <td>0</td>\n",
       "      <td>0</td>\n",
       "      <td>248.0</td>\n",
       "      <td>0</td>\n",
       "      <td>0</td>\n",
       "      <td>1</td>\n",
       "      <td>0</td>\n",
       "      <td>0</td>\n",
       "    </tr>\n",
       "    <tr>\n",
       "      <th>3</th>\n",
       "      <td>1</td>\n",
       "      <td>1</td>\n",
       "      <td>0</td>\n",
       "      <td>0</td>\n",
       "      <td>0</td>\n",
       "      <td>0</td>\n",
       "      <td>162.0</td>\n",
       "      <td>0</td>\n",
       "      <td>0</td>\n",
       "      <td>1</td>\n",
       "      <td>0</td>\n",
       "      <td>0</td>\n",
       "    </tr>\n",
       "    <tr>\n",
       "      <th>4</th>\n",
       "      <td>1</td>\n",
       "      <td>0</td>\n",
       "      <td>1</td>\n",
       "      <td>0</td>\n",
       "      <td>0</td>\n",
       "      <td>0</td>\n",
       "      <td>66.0</td>\n",
       "      <td>1</td>\n",
       "      <td>0</td>\n",
       "      <td>0</td>\n",
       "      <td>0</td>\n",
       "      <td>1</td>\n",
       "    </tr>\n",
       "  </tbody>\n",
       "</table>\n",
       "</div>"
      ],
      "text/plain": [
       "   Intercept  Title_Mr  SibSp  Deck_E  AgeCate_F  FareCate_I  genderclassage  \\\n",
       "0          1         1      0       0          1           0           207.0   \n",
       "1          1         0      1       0          0           0           141.0   \n",
       "2          1         1      0       0          0           0           248.0   \n",
       "3          1         1      0       0          0           0           162.0   \n",
       "4          1         0      1       0          0           0            66.0   \n",
       "\n",
       "   genclaCate_C  genclageCate_A  Sex_male  Deck_D  AgeCate_B  \n",
       "0             0               0         1       0          0  \n",
       "1             1               0         0       0          0  \n",
       "2             0               0         1       0          0  \n",
       "3             0               0         1       0          0  \n",
       "4             1               0         0       0          1  "
      ]
     },
     "execution_count": 1378,
     "metadata": {},
     "output_type": "execute_result"
    }
   ],
   "source": [
    "df2.head()"
   ]
  },
  {
   "cell_type": "code",
   "execution_count": 1379,
   "metadata": {},
   "outputs": [
    {
     "name": "stdout",
     "output_type": "stream",
     "text": [
      "[0, 0, 1, 1, 0, 0, 0, 0, 1, 0, 0, 0, 1, 0, 1, 1, 0, 0, 0, 0, 0, 1, 1, 0, 1, 0, 1, 0, 0, 0, 0, 0, 0, 0, 0, 0, 0, 0, 0, 0, 0, 1, 0, 1, 1, 0, 0, 0, 1, 0, 1, 0, 1, 1, 0, 0, 0, 0, 0, 1, 0, 0, 0, 1, 1, 1, 1, 0, 0, 1, 1, 0, 1, 1, 1, 0, 0, 1, 0, 1, 1, 0, 0, 0, 0, 0, 1, 1, 0, 1, 0, 0, 1, 0, 0, 0, 1, 0, 0, 0, 1, 0, 0, 0, 1, 0, 0, 0, 0, 0, 1, 0, 1, 1, 1, 0, 0, 1, 0, 1, 1, 0, 1, 0, 0, 0, 0, 0, 0, 0, 0, 0, 0, 0, 0, 0, 1, 0, 1, 0, 0, 1, 1, 0, 0, 0, 1, 0, 0, 0, 1, 0, 0, 0, 0, 0, 1, 1, 0, 1, 0, 1, 1, 0, 1, 0, 0, 0, 1, 1, 0, 1, 0, 0, 0, 1, 1, 0, 1, 1, 0, 1, 1, 0, 1, 1, 1, 0, 0, 1, 0, 0, 1, 0, 1, 0, 1, 1, 0, 0, 0, 1, 0, 1, 0, 0, 1, 0, 1, 0, 0, 0, 0, 1, 0, 0, 0, 0, 1, 0, 1, 0, 1, 0, 1, 0, 0, 0, 0, 0, 1, 1, 1, 0, 1, 0, 0, 0, 1, 1, 1, 1, 0, 0, 1, 1, 1, 0, 1, 0, 0, 0, 0, 0, 0, 0, 0, 0, 1, 0, 0, 0, 1, 1, 0, 0, 0, 0, 0, 0, 0, 0, 0, 0, 0, 1, 0, 0, 0, 0, 1, 1, 0, 0, 1, 0, 0, 1, 1, 0, 0, 0, 0, 1, 0, 0, 0, 0, 0, 0, 0, 0, 0, 0, 0, 1, 0, 1, 0, 0, 0, 0, 0, 0, 1, 0, 0, 0, 1, 0, 0, 0, 0, 0, 1, 0, 1, 0, 0, 0, 1, 0, 0, 0, 1, 0, 0, 0, 0, 0, 0, 0, 0, 1, 1, 1, 0, 0, 0, 1, 1, 0, 0, 0, 1, 1, 1, 0, 0, 0, 0, 1, 1, 1, 1, 0, 0, 1, 1, 0, 0, 1, 0, 0, 1, 1, 0, 0, 0, 0, 0, 0, 0, 0, 0, 1, 0, 0, 0, 0, 0, 1, 0, 0, 0, 1, 0, 1, 0, 0, 1, 0, 1, 1, 1, 0, 0, 0, 0, 1, 0, 1, 0, 0, 1, 0, 0, 1]\n"
     ]
    }
   ],
   "source": [
    "res = []\n",
    "res = list(results_rf.predict(df2))\n",
    "res_ran = [int(i) for i in res]\n",
    "print(res_ran)"
   ]
  },
  {
   "cell_type": "markdown",
   "metadata": {},
   "source": [
    "#### SVM RBF Kernel"
   ]
  },
  {
   "cell_type": "code",
   "execution_count": 1329,
   "metadata": {
    "collapsed": true
   },
   "outputs": [],
   "source": [
    "def svm_cv(data,label):\n",
    "    C = 1#1.0 \n",
    "    clf1 = svm.SVC(kernel='rbf', gamma=0.7, C=C)\n",
    "    clf2 = svm.SVC(kernel='poly', degree=3, C=C)\n",
    "    clf3 = svm.SVC(kernel='linear', C=C)\n",
    "    clf = LogisticRegression(C=C, penalty='l1', tol=0.01)\n",
    "    \n",
    "    kf = KFold(n_splits=5, shuffle = True)\n",
    "    folds = kf.split(data)\n",
    "    score = []\n",
    "    for train,test in folds:\n",
    "        data_train, data_test = data[train],data[test]\n",
    "        label_train, label_test = label[train],label[test]\n",
    "        clf1.fit(data_train, label_train)\n",
    "        clf2.fit(data_train, label_train)\n",
    "        clf3.fit(data_train, label_train)\n",
    "        clf.fit(data_train, label_train)\n",
    "        \n",
    "        res1 = clf1.predict(data_test)\n",
    "        res2 = clf2.predict(data_test)\n",
    "        res3 = clf3.predict(data_test)\n",
    "        res = clf.predict(data_test)\n",
    "        \n",
    "        #pred = (res1+res2+res3+res)/4.0\n",
    "        pred = res\n",
    "        pred = [int(i) for i in pred]\n",
    "        print(pred[:5])\n",
    "#         Z = clf.score(data_test, label_test)\n",
    "#         score.append(Z)\n",
    "        Z = accuracy_score(label_test, pred)\n",
    "        print(Z)\n",
    "        score.append(Z)\n",
    "        model = [clf1, clf2, clf3, clf]\n",
    "    return [np.mean(score),model]"
   ]
  },
  {
   "cell_type": "code",
   "execution_count": 1113,
   "metadata": {
    "collapsed": true
   },
   "outputs": [],
   "source": [
    "#C = 1.0  # SVM regularization parameter\n",
    "# models = (svm.SVC(kernel='linear', C=C),\n",
    "#           svm.LinearSVC(C=C),\n",
    "#           svm.SVC(kernel='rbf', gamma=0.7, C=C),\n",
    "#           svm.SVC(kernel='poly', degree=3, C=C))\n",
    "# models = (clf.fit(X, y) for clf in models)\n",
    "#clf = svm.SVC(kernel='rbf', gamma=0.7, C=C)"
   ]
  },
  {
   "cell_type": "code",
   "execution_count": 1330,
   "metadata": {},
   "outputs": [],
   "source": [
    "if 'Survived' in list(df_dummy):\n",
    "    del df_dummy['Survived']"
   ]
  },
  {
   "cell_type": "code",
   "execution_count": 1331,
   "metadata": {
    "collapsed": true
   },
   "outputs": [],
   "source": [
    "#data = preprocessing.scale(df_dummy[selist])\n",
    "data = preprocessing.scale(df_dummy)"
   ]
  },
  {
   "cell_type": "code",
   "execution_count": 1332,
   "metadata": {},
   "outputs": [
    {
     "name": "stdout",
     "output_type": "stream",
     "text": [
      "[0, 1, 0, 1, 0]\n",
      "0.793296089385\n",
      "[1, 0, 0, 0, 0]\n",
      "0.814606741573\n",
      "[1, 0, 1, 0, 0]\n",
      "0.887640449438\n",
      "[0, 1, 0, 0, 0]\n",
      "0.803370786517\n",
      "[1, 1, 0, 0, 0]\n",
      "0.803370786517\n"
     ]
    }
   ],
   "source": [
    "[res, model] = svm_cv(data, label)"
   ]
  },
  {
   "cell_type": "code",
   "execution_count": 1333,
   "metadata": {},
   "outputs": [
    {
     "name": "stdout",
     "output_type": "stream",
     "text": [
      "0.820456970686\n"
     ]
    }
   ],
   "source": [
    "print(res)"
   ]
  },
  {
   "cell_type": "markdown",
   "metadata": {},
   "source": [
    "#### Ensembling method"
   ]
  },
  {
   "cell_type": "code",
   "execution_count": 1334,
   "metadata": {
    "collapsed": true
   },
   "outputs": [],
   "source": [
    "from sklearn.model_selection import cross_val_score\n",
    "from sklearn.linear_model import LogisticRegression\n",
    "from sklearn.naive_bayes import GaussianNB\n",
    "from sklearn.ensemble import RandomForestClassifier\n",
    "from sklearn.ensemble import VotingClassifier\n",
    "from sklearn.ensemble import AdaBoostClassifier"
   ]
  },
  {
   "cell_type": "code",
   "execution_count": 1335,
   "metadata": {
    "collapsed": true
   },
   "outputs": [],
   "source": [
    "# data = preprocessing.scale(df_dummy[selist])\n",
    "if 'Survived' in list(df_dummy):\n",
    "    del df_dummy['Survived']\n",
    "data = preprocessing.scale(df_dummy[selist])"
   ]
  },
  {
   "cell_type": "code",
   "execution_count": 1336,
   "metadata": {},
   "outputs": [
    {
     "data": {
      "text/html": [
       "<div>\n",
       "<style>\n",
       "    .dataframe thead tr:only-child th {\n",
       "        text-align: right;\n",
       "    }\n",
       "\n",
       "    .dataframe thead th {\n",
       "        text-align: left;\n",
       "    }\n",
       "\n",
       "    .dataframe tbody tr th {\n",
       "        vertical-align: top;\n",
       "    }\n",
       "</style>\n",
       "<table border=\"1\" class=\"dataframe\">\n",
       "  <thead>\n",
       "    <tr style=\"text-align: right;\">\n",
       "      <th></th>\n",
       "      <th>Title_Mr</th>\n",
       "      <th>SibSp</th>\n",
       "      <th>Pclass</th>\n",
       "      <th>genclaCate_C</th>\n",
       "      <th>Fare</th>\n",
       "      <th>Age*Class</th>\n",
       "      <th>FareCate_I</th>\n",
       "      <th>FareCate_C</th>\n",
       "    </tr>\n",
       "  </thead>\n",
       "  <tbody>\n",
       "    <tr>\n",
       "      <th>0</th>\n",
       "      <td>1</td>\n",
       "      <td>1</td>\n",
       "      <td>3</td>\n",
       "      <td>0</td>\n",
       "      <td>7.2500</td>\n",
       "      <td>66.0</td>\n",
       "      <td>0</td>\n",
       "      <td>0</td>\n",
       "    </tr>\n",
       "    <tr>\n",
       "      <th>1</th>\n",
       "      <td>0</td>\n",
       "      <td>1</td>\n",
       "      <td>1</td>\n",
       "      <td>0</td>\n",
       "      <td>71.2833</td>\n",
       "      <td>38.0</td>\n",
       "      <td>0</td>\n",
       "      <td>0</td>\n",
       "    </tr>\n",
       "    <tr>\n",
       "      <th>2</th>\n",
       "      <td>0</td>\n",
       "      <td>0</td>\n",
       "      <td>3</td>\n",
       "      <td>1</td>\n",
       "      <td>7.9250</td>\n",
       "      <td>78.0</td>\n",
       "      <td>0</td>\n",
       "      <td>1</td>\n",
       "    </tr>\n",
       "    <tr>\n",
       "      <th>3</th>\n",
       "      <td>0</td>\n",
       "      <td>1</td>\n",
       "      <td>1</td>\n",
       "      <td>0</td>\n",
       "      <td>53.1000</td>\n",
       "      <td>35.0</td>\n",
       "      <td>0</td>\n",
       "      <td>0</td>\n",
       "    </tr>\n",
       "    <tr>\n",
       "      <th>4</th>\n",
       "      <td>1</td>\n",
       "      <td>0</td>\n",
       "      <td>3</td>\n",
       "      <td>0</td>\n",
       "      <td>8.0500</td>\n",
       "      <td>105.0</td>\n",
       "      <td>0</td>\n",
       "      <td>1</td>\n",
       "    </tr>\n",
       "  </tbody>\n",
       "</table>\n",
       "</div>"
      ],
      "text/plain": [
       "   Title_Mr  SibSp  Pclass  genclaCate_C     Fare  Age*Class  FareCate_I  \\\n",
       "0         1      1       3             0   7.2500       66.0           0   \n",
       "1         0      1       1             0  71.2833       38.0           0   \n",
       "2         0      0       3             1   7.9250       78.0           0   \n",
       "3         0      1       1             0  53.1000       35.0           0   \n",
       "4         1      0       3             0   8.0500      105.0           0   \n",
       "\n",
       "   FareCate_C  \n",
       "0           0  \n",
       "1           0  \n",
       "2           1  \n",
       "3           0  \n",
       "4           1  "
      ]
     },
     "execution_count": 1336,
     "metadata": {},
     "output_type": "execute_result"
    }
   ],
   "source": [
    "df_dummy[selist].head()"
   ]
  },
  {
   "cell_type": "code",
   "execution_count": 1337,
   "metadata": {},
   "outputs": [
    {
     "data": {
      "text/plain": [
       "0.8047138047138046"
      ]
     },
     "execution_count": 1337,
     "metadata": {},
     "output_type": "execute_result"
    }
   ],
   "source": [
    "clf = AdaBoostClassifier(n_estimators=100)\n",
    "scores = cross_val_score(clf, data, label)\n",
    "scores.mean()  "
   ]
  },
  {
   "cell_type": "code",
   "execution_count": 1338,
   "metadata": {},
   "outputs": [
    {
     "name": "stdout",
     "output_type": "stream",
     "text": [
      "0    0\n",
      "1    1\n",
      "2    1\n",
      "3    1\n",
      "4    0\n",
      "Name: Survived, dtype: int64\n"
     ]
    }
   ],
   "source": [
    "print(label[:5])"
   ]
  },
  {
   "cell_type": "code",
   "execution_count": 1339,
   "metadata": {},
   "outputs": [
    {
     "data": {
      "text/plain": [
       "(891, 8)"
      ]
     },
     "execution_count": 1339,
     "metadata": {},
     "output_type": "execute_result"
    }
   ],
   "source": [
    "data.shape"
   ]
  },
  {
   "cell_type": "code",
   "execution_count": 1340,
   "metadata": {},
   "outputs": [
    {
     "name": "stdout",
     "output_type": "stream",
     "text": [
      "Accuracy: 0.82 (+/- 0.03) [Logistic Regression]\n",
      "Accuracy: 0.81 (+/- 0.03) [Random Forest]\n",
      "Accuracy: 0.63 (+/- 0.02) [naive Bayes]\n",
      "Accuracy: 0.82 (+/- 0.02) [Ensemble]\n"
     ]
    }
   ],
   "source": [
    "X, y = data, label\n",
    "C = 1.0\n",
    "clf1 = LogisticRegression(random_state=1)\n",
    "clf2 = RandomForestClassifier(random_state=1)\n",
    "clf3 = GaussianNB()\n",
    "#clf1 = svm.SVC(kernel='rbf', gamma=0.7, C=C)\n",
    "# clf2 = svm.SVC(kernel='poly', degree=3, C=C)\n",
    "# clf3 = svm.SVC(kernel='linear', C=C)\n",
    "\n",
    "eclf = VotingClassifier(estimators=[('lr', clf1), ('rf', clf2), ('gnb', clf3)], voting='hard')\n",
    "\n",
    "for clf, method_label in zip([clf1, clf2, clf3, eclf], ['Logistic Regression', 'Random Forest', 'naive Bayes', 'Ensemble']):\n",
    "    scores = cross_val_score(clf, X, y, cv=5, scoring='accuracy')\n",
    "    print(\"Accuracy: %0.2f (+/- %0.2f) [%s]\" % (scores.mean(), scores.std(), method_label))"
   ]
  },
  {
   "cell_type": "code",
   "execution_count": 1341,
   "metadata": {},
   "outputs": [
    {
     "data": {
      "text/plain": [
       "VotingClassifier(estimators=[('lr', LogisticRegression(C=1.0, class_weight=None, dual=False, fit_intercept=True,\n",
       "          intercept_scaling=1, max_iter=100, multi_class='ovr', n_jobs=1,\n",
       "          penalty='l2', random_state=1, solver='liblinear', tol=0.0001,\n",
       "          verbose=0, warm_start=False)), ('rf', RandomFore...=False, random_state=1,\n",
       "            verbose=0, warm_start=False)), ('gnb', GaussianNB(priors=None))],\n",
       "         n_jobs=1, voting='hard', weights=None)"
      ]
     },
     "execution_count": 1341,
     "metadata": {},
     "output_type": "execute_result"
    }
   ],
   "source": [
    "eclf.fit(X,y)"
   ]
  },
  {
   "cell_type": "code",
   "execution_count": 1127,
   "metadata": {
    "collapsed": true
   },
   "outputs": [],
   "source": [
    "data_test = preprocessing.scale(df_test_dummy[selist])"
   ]
  },
  {
   "cell_type": "code",
   "execution_count": 1128,
   "metadata": {},
   "outputs": [
    {
     "data": {
      "text/plain": [
       "(418, 8)"
      ]
     },
     "execution_count": 1128,
     "metadata": {},
     "output_type": "execute_result"
    }
   ],
   "source": [
    "data_test.shape"
   ]
  },
  {
   "cell_type": "code",
   "execution_count": 1129,
   "metadata": {},
   "outputs": [
    {
     "data": {
      "text/plain": [
       "(891, 8)"
      ]
     },
     "execution_count": 1129,
     "metadata": {},
     "output_type": "execute_result"
    }
   ],
   "source": [
    "data.shape"
   ]
  },
  {
   "cell_type": "code",
   "execution_count": 1130,
   "metadata": {},
   "outputs": [
    {
     "name": "stdout",
     "output_type": "stream",
     "text": [
      "['Title_Mr', 'SibSp', 'Deck_E', 'FareCate_I', 'AgeCate_C', 'AgeCate_F', 'FareCate_C', 'Sex_male']\n"
     ]
    }
   ],
   "source": [
    "print(list(df_test_dummy[selist]))"
   ]
  },
  {
   "cell_type": "code",
   "execution_count": 1131,
   "metadata": {},
   "outputs": [
    {
     "name": "stdout",
     "output_type": "stream",
     "text": [
      "['Title_Mr', 'SibSp', 'Deck_E', 'FareCate_I', 'AgeCate_C', 'AgeCate_F', 'FareCate_C', 'Sex_male']\n"
     ]
    }
   ],
   "source": [
    "print(list(df_dummy[selist]))"
   ]
  },
  {
   "cell_type": "code",
   "execution_count": 1132,
   "metadata": {},
   "outputs": [
    {
     "name": "stdout",
     "output_type": "stream",
     "text": [
      "[0, 1, 0, 0, 1, 0, 1, 0, 1, 0, 0, 0, 1, 0, 1, 1, 0, 0, 1, 1, 0, 1, 1, 0, 1, 0, 1, 0, 0, 0, 0, 0, 1, 1, 0, 0, 1, 1, 0, 0, 0, 0, 0, 1, 1, 0, 0, 0, 1, 1, 0, 0, 1, 0, 0, 0, 0, 0, 0, 1, 0, 0, 0, 1, 1, 1, 1, 0, 0, 1, 1, 0, 1, 0, 1, 0, 0, 1, 0, 1, 1, 0, 0, 0, 0, 0, 1, 1, 1, 1, 1, 0, 1, 0, 0, 0, 1, 0, 1, 0, 1, 0, 0, 0, 0, 0, 0, 0, 0, 0, 0, 1, 1, 1, 1, 0, 0, 1, 0, 1, 1, 0, 1, 0, 0, 1, 0, 1, 0, 0, 0, 0, 1, 0, 0, 0, 0, 0, 1, 0, 0, 1, 0, 0, 0, 0, 1, 0, 0, 0, 1, 0, 0, 1, 0, 0, 1, 1, 0, 1, 1, 1, 1, 0, 0, 1, 0, 0, 1, 1, 0, 0, 0, 0, 0, 1, 1, 0, 1, 1, 0, 0, 1, 0, 1, 0, 1, 0, 0, 0, 0, 0, 1, 0, 1, 0, 1, 1, 0, 1, 1, 1, 0, 1, 0, 0, 1, 0, 1, 0, 0, 0, 0, 1, 0, 0, 1, 0, 1, 0, 1, 0, 1, 0, 1, 1, 0, 1, 0, 0, 0, 1, 0, 0, 0, 0, 0, 0, 1, 1, 1, 1, 0, 0, 1, 0, 1, 0, 1, 1, 1, 0, 0, 0, 0, 0, 0, 0, 1, 0, 0, 0, 1, 1, 0, 0, 0, 0, 1, 0, 0, 0, 1, 1, 0, 1, 0, 0, 0, 0, 1, 1, 1, 1, 1, 0, 0, 0, 1, 0, 0, 1, 0, 1, 0, 0, 1, 0, 0, 0, 0, 0, 0, 0, 1, 1, 0, 1, 0, 1, 0, 0, 0, 1, 1, 1, 0, 0, 0, 0, 0, 1, 0, 0, 1, 0, 1, 0, 0, 0, 1, 0, 0, 1, 0, 0, 0, 0, 0, 1, 0, 0, 0, 1, 1, 1, 0, 1, 0, 1, 1, 0, 0, 0, 1, 1, 1, 0, 0, 1, 0, 1, 1, 0, 1, 1, 0, 1, 1, 0, 0, 1, 0, 0, 1, 1, 0, 0, 0, 0, 0, 0, 1, 1, 0, 1, 0, 0, 0, 0, 0, 1, 1, 0, 0, 1, 0, 1, 0, 0, 1, 0, 1, 0, 0, 0, 0, 0, 1, 1, 1, 1, 1, 0, 0, 0, 0, 1]\n"
     ]
    }
   ],
   "source": [
    "result2 = list(eclf.predict(data_test))\n",
    "print(result2)"
   ]
  },
  {
   "cell_type": "markdown",
   "metadata": {},
   "source": [
    "#### Voting Classifier with GridSearch"
   ]
  },
  {
   "cell_type": "code",
   "execution_count": 860,
   "metadata": {},
   "outputs": [],
   "source": [
    "from sklearn.model_selection import GridSearchCV\n",
    "clf1 = LogisticRegression(random_state=1)\n",
    "clf2 = RandomForestClassifier(random_state=1)\n",
    "clf3 = GaussianNB()\n",
    "eclf = VotingClassifier(estimators=[('lr', clf1), ('rf', clf2), ('gnb', clf3)], voting='soft')\n",
    "\n",
    "params = {'lr__C': [1.0, 100.0], 'rf__n_estimators': [20, 200],}\n",
    "\n",
    "grid = GridSearchCV(estimator=eclf, param_grid=params, cv=5)\n",
    "grid = grid.fit(data, label)"
   ]
  },
  {
   "cell_type": "code",
   "execution_count": 861,
   "metadata": {
    "collapsed": true
   },
   "outputs": [],
   "source": [
    "scores = cross_val_score(grid, data, label)"
   ]
  },
  {
   "cell_type": "code",
   "execution_count": 862,
   "metadata": {},
   "outputs": [
    {
     "name": "stdout",
     "output_type": "stream",
     "text": [
      "[ 0.77777778  0.8047138   0.80808081]\n"
     ]
    }
   ],
   "source": [
    "print(scores)"
   ]
  },
  {
   "cell_type": "markdown",
   "metadata": {},
   "source": [
    "#### Predict test data"
   ]
  },
  {
   "cell_type": "code",
   "execution_count": 388,
   "metadata": {},
   "outputs": [],
   "source": [
    "# df_test_dummy = pd.get_dummies(df_test)\n",
    "# data_test = preprocessing.scale(df_test_dummy[selist])\n",
    "# res = list(logreg.predict(data_test))\n",
    "# print(res)"
   ]
  },
  {
   "cell_type": "code",
   "execution_count": 1380,
   "metadata": {
    "collapsed": true
   },
   "outputs": [],
   "source": [
    "res = res_ran\n",
    "# res = result2\n",
    "# res = list(res_logit)"
   ]
  },
  {
   "cell_type": "code",
   "execution_count": 1381,
   "metadata": {},
   "outputs": [
    {
     "name": "stdout",
     "output_type": "stream",
     "text": [
      "['PassengerId', 892, 893, 894, 895, 896, 897, 898, 899, 900, 901, 902, 903, 904, 905, 906, 907, 908, 909, 910, 911, 912, 913, 914, 915, 916, 917, 918, 919, 920, 921, 922, 923, 924, 925, 926, 927, 928, 929, 930, 931, 932, 933, 934, 935, 936, 937, 938, 939, 940, 941, 942, 943, 944, 945, 946, 947, 948, 949, 950, 951, 952, 953, 954, 955, 956, 957, 958, 959, 960, 961, 962, 963, 964, 965, 966, 967, 968, 969, 970, 971, 972, 973, 974, 975, 976, 977, 978, 979, 980, 981, 982, 983, 984, 985, 986, 987, 988, 989, 990, 991, 992, 993, 994, 995, 996, 997, 998, 999, 1000, 1001, 1002, 1003, 1004, 1005, 1006, 1007, 1008, 1009, 1010, 1011, 1012, 1013, 1014, 1015, 1016, 1017, 1018, 1019, 1020, 1021, 1022, 1023, 1024, 1025, 1026, 1027, 1028, 1029, 1030, 1031, 1032, 1033, 1034, 1035, 1036, 1037, 1038, 1039, 1040, 1041, 1042, 1043, 1044, 1045, 1046, 1047, 1048, 1049, 1050, 1051, 1052, 1053, 1054, 1055, 1056, 1057, 1058, 1059, 1060, 1061, 1062, 1063, 1064, 1065, 1066, 1067, 1068, 1069, 1070, 1071, 1072, 1073, 1074, 1075, 1076, 1077, 1078, 1079, 1080, 1081, 1082, 1083, 1084, 1085, 1086, 1087, 1088, 1089, 1090, 1091, 1092, 1093, 1094, 1095, 1096, 1097, 1098, 1099, 1100, 1101, 1102, 1103, 1104, 1105, 1106, 1107, 1108, 1109, 1110, 1111, 1112, 1113, 1114, 1115, 1116, 1117, 1118, 1119, 1120, 1121, 1122, 1123, 1124, 1125, 1126, 1127, 1128, 1129, 1130, 1131, 1132, 1133, 1134, 1135, 1136, 1137, 1138, 1139, 1140, 1141, 1142, 1143, 1144, 1145, 1146, 1147, 1148, 1149, 1150, 1151, 1152, 1153, 1154, 1155, 1156, 1157, 1158, 1159, 1160, 1161, 1162, 1163, 1164, 1165, 1166, 1167, 1168, 1169, 1170, 1171, 1172, 1173, 1174, 1175, 1176, 1177, 1178, 1179, 1180, 1181, 1182, 1183, 1184, 1185, 1186, 1187, 1188, 1189, 1190, 1191, 1192, 1193, 1194, 1195, 1196, 1197, 1198, 1199, 1200, 1201, 1202, 1203, 1204, 1205, 1206, 1207, 1208, 1209, 1210, 1211, 1212, 1213, 1214, 1215, 1216, 1217, 1218, 1219, 1220, 1221, 1222, 1223, 1224, 1225, 1226, 1227, 1228, 1229, 1230, 1231, 1232, 1233, 1234, 1235, 1236, 1237, 1238, 1239, 1240, 1241, 1242, 1243, 1244, 1245, 1246, 1247, 1248, 1249, 1250, 1251, 1252, 1253, 1254, 1255, 1256, 1257, 1258, 1259, 1260, 1261, 1262, 1263, 1264, 1265, 1266, 1267, 1268, 1269, 1270, 1271, 1272, 1273, 1274, 1275, 1276, 1277, 1278, 1279, 1280, 1281, 1282, 1283, 1284, 1285, 1286, 1287, 1288, 1289, 1290, 1291, 1292, 1293, 1294, 1295, 1296, 1297, 1298, 1299, 1300, 1301, 1302, 1303, 1304, 1305, 1306, 1307, 1308, 1309]\n"
     ]
    }
   ],
   "source": [
    "passId = list(passId)\n",
    "print(passId)"
   ]
  },
  {
   "cell_type": "code",
   "execution_count": 1382,
   "metadata": {},
   "outputs": [
    {
     "name": "stdout",
     "output_type": "stream",
     "text": [
      "['PassengerId', 892, 893, 894, 895, 896, 897, 898, 899, 900]\n",
      "['Survived', 0, 0, 1, 1, 0, 0, 0, 0, 1]\n"
     ]
    }
   ],
   "source": [
    "if passId[0]!=\"PassengerId\":\n",
    "    passId.insert(0, \"PassengerId\")\n",
    "if res[0]!=\"Survived\":\n",
    "    res.insert(0, \"Survived\")\n",
    "result = [passId, res]\n",
    "print(result[0][:10])\n",
    "print(result[1][:10])"
   ]
  },
  {
   "cell_type": "code",
   "execution_count": 1383,
   "metadata": {
    "collapsed": true
   },
   "outputs": [],
   "source": [
    "with open('predict.csv', 'w', newline='') as f:\n",
    "    writer = csv.writer(f)\n",
    "    writer.writerows(np.transpose(result))"
   ]
  },
  {
   "cell_type": "code",
   "execution_count": null,
   "metadata": {
    "collapsed": true
   },
   "outputs": [],
   "source": []
  }
 ],
 "metadata": {
  "kernelspec": {
   "display_name": "Python 3",
   "language": "python",
   "name": "python3"
  },
  "language_info": {
   "codemirror_mode": {
    "name": "ipython",
    "version": 3
   },
   "file_extension": ".py",
   "mimetype": "text/x-python",
   "name": "python",
   "nbconvert_exporter": "python",
   "pygments_lexer": "ipython3",
   "version": "3.5.2"
  }
 },
 "nbformat": 4,
 "nbformat_minor": 2
}
